{
 "cells": [
  {
   "cell_type": "code",
   "execution_count": 16,
   "metadata": {},
   "outputs": [],
   "source": [
    "import pandas as pd"
   ]
  },
  {
   "cell_type": "code",
   "execution_count": 17,
   "metadata": {},
   "outputs": [
    {
     "data": {
      "text/html": [
       "<div>\n",
       "<style scoped>\n",
       "    .dataframe tbody tr th:only-of-type {\n",
       "        vertical-align: middle;\n",
       "    }\n",
       "\n",
       "    .dataframe tbody tr th {\n",
       "        vertical-align: top;\n",
       "    }\n",
       "\n",
       "    .dataframe thead th {\n",
       "        text-align: right;\n",
       "    }\n",
       "</style>\n",
       "<table border=\"1\" class=\"dataframe\">\n",
       "  <thead>\n",
       "    <tr style=\"text-align: right;\">\n",
       "      <th></th>\n",
       "      <th>title</th>\n",
       "      <th>description</th>\n",
       "      <th>url</th>\n",
       "    </tr>\n",
       "  </thead>\n",
       "  <tbody>\n",
       "    <tr>\n",
       "      <th>0</th>\n",
       "      <td>Rasam Vada Recipe | Tomato Rasam | Perfect Vad...</td>\n",
       "      <td>Rasam Powder: https://youtu.be/YIWBthqArCM?t=5...</td>\n",
       "      <td>https://www.youtube.com/watch?v=7LpEu6rTyHs</td>\n",
       "    </tr>\n",
       "    <tr>\n",
       "      <th>1</th>\n",
       "      <td>Peri Peri Chicken with Butter Rice | Spicy Hom...</td>\n",
       "      <td>Full written recipe of Chicken in Peri Peri Sa...</td>\n",
       "      <td>https://www.youtube.com/watch?v=d9_YSS1lB1w</td>\n",
       "    </tr>\n",
       "    <tr>\n",
       "      <th>2</th>\n",
       "      <td>Homestyle Turai Ki Sabzi | Turai Ka Bharta | त...</td>\n",
       "      <td>Full written recipe of Turai Ki Sabzi\\nPrep ti...</td>\n",
       "      <td>https://www.youtube.com/watch?v=nX5vogjw_yk</td>\n",
       "    </tr>\n",
       "    <tr>\n",
       "      <th>3</th>\n",
       "      <td>Chicken Pepper Fry Recipe | Pepper Chicken Mas...</td>\n",
       "      <td>Full written recipe for Chicken Pepper Fry\\nPr...</td>\n",
       "      <td>https://www.youtube.com/watch?v=5R6nNJC-FVE</td>\n",
       "    </tr>\n",
       "    <tr>\n",
       "      <th>4</th>\n",
       "      <td>Achari Paneer Recipe | Dhaba Style Paneer Grav...</td>\n",
       "      <td>Full written recipe of Achari Paneer \\nPrep ti...</td>\n",
       "      <td>https://www.youtube.com/watch?v=P514UYjzZ-E</td>\n",
       "    </tr>\n",
       "  </tbody>\n",
       "</table>\n",
       "</div>"
      ],
      "text/plain": [
       "                                               title  \\\n",
       "0  Rasam Vada Recipe | Tomato Rasam | Perfect Vad...   \n",
       "1  Peri Peri Chicken with Butter Rice | Spicy Hom...   \n",
       "2  Homestyle Turai Ki Sabzi | Turai Ka Bharta | त...   \n",
       "3  Chicken Pepper Fry Recipe | Pepper Chicken Mas...   \n",
       "4  Achari Paneer Recipe | Dhaba Style Paneer Grav...   \n",
       "\n",
       "                                         description  \\\n",
       "0  Rasam Powder: https://youtu.be/YIWBthqArCM?t=5...   \n",
       "1  Full written recipe of Chicken in Peri Peri Sa...   \n",
       "2  Full written recipe of Turai Ki Sabzi\\nPrep ti...   \n",
       "3  Full written recipe for Chicken Pepper Fry\\nPr...   \n",
       "4  Full written recipe of Achari Paneer \\nPrep ti...   \n",
       "\n",
       "                                           url  \n",
       "0  https://www.youtube.com/watch?v=7LpEu6rTyHs  \n",
       "1  https://www.youtube.com/watch?v=d9_YSS1lB1w  \n",
       "2  https://www.youtube.com/watch?v=nX5vogjw_yk  \n",
       "3  https://www.youtube.com/watch?v=5R6nNJC-FVE  \n",
       "4  https://www.youtube.com/watch?v=P514UYjzZ-E  "
      ]
     },
     "execution_count": 17,
     "metadata": {},
     "output_type": "execute_result"
    }
   ],
   "source": [
    "data =  pd.read_csv(\"channel_data.csv\")\n",
    "data.head()"
   ]
  },
  {
   "cell_type": "code",
   "execution_count": 18,
   "metadata": {},
   "outputs": [
    {
     "name": "stdout",
     "output_type": "stream",
     "text": [
      "<class 'pandas.core.frame.DataFrame'>\n",
      "RangeIndex: 1457 entries, 0 to 1456\n",
      "Data columns (total 3 columns):\n",
      " #   Column       Non-Null Count  Dtype \n",
      "---  ------       --------------  ----- \n",
      " 0   title        1457 non-null   object\n",
      " 1   description  1380 non-null   object\n",
      " 2   url          1457 non-null   object\n",
      "dtypes: object(3)\n",
      "memory usage: 34.3+ KB\n"
     ]
    }
   ],
   "source": [
    "data.info()"
   ]
  },
  {
   "cell_type": "code",
   "execution_count": 19,
   "metadata": {},
   "outputs": [],
   "source": [
    "#fillings na values with empty string\n",
    "data[\"description\"] = data[\"description\"].fillna(\"\")"
   ]
  },
  {
   "cell_type": "markdown",
   "metadata": {},
   "source": [
    "## LLM parser"
   ]
  },
  {
   "cell_type": "markdown",
   "metadata": {},
   "source": [
    "For eg. :\n",
    "The first description is \n",
    "```\n",
    "data['description'][0] = \"Rasam Powder: https://youtu.be/YIWBthqArCM?t=59&si=zpnugmEpzvQkN5mb\\n\\nFull written recipe Rasam Vada\\n\\nPrep time: 15-20 minutes (excluding soaking time)\\nCooking time: 25-30 minutes\\nServes: 4-5 people\\n\\nIngredients:\\nRasam\\nTUR DAL | तूर दाल ¼ CUP (SOAKED)\\nWATER | पानी AS REQUIRED \\nTURMERIC POWDER | हल्दी पाउडर ¼ TSP\\nOIL | तेल 2 TBSP\\nMUSTARD SEED | राई ½ TSP\\nCURRY LEAVES | कड़ी पत्ता 12-15 NOS. \\nGREEN CHILLI | हरी मिर्च 2 NOS. (SLIT)\\nRED CHILLI | लाल मिर्च 4 NOS. \\nGARLIC | लहसुन 6 CLOVES (ROUGHLY CHOPPED)\\nASAFOETIDA | हींग ¼ TSP\\nTOMATO | टमाटर 2 NOS. (CHOPPED)\\nCORIANDER STEMS | धनिए के डंठल A HANDFUL (CHOPPED)\\nSALT | नमक TO TASTE\\nTURMERIC POWDER | हल्दी पाउडर ¼ TSP\\nTAMARIND | इमली A LARGE LEMON SIZED BALL. (SOAKED)\\nJAGGERY | गुड़ 1 TBSP\\nHOT WATER | गरम पानी AS REQUIRED \\nRASAM POWDER | रसम पाउडर 3 TBSP\\nBLACK PEPPER | काली मिर्च A LARGE PINCH (FRESHLY CRUSHED)\\nFRESH CORIANDER | हरा धनिया A HANDFUL (ROUGHLY CHOPPED)\\n\\nVada\\nURAD DAL | उरद दाल 1 CUP\\nCOLD WATER | ठंडा पानी AS REQUIRED \\nSALT | नमक TO TASTE\\nCURRY LEAVES | कड़ी पत्ता 10-12 NOS. (CHOPPED)\\nGREEN CHILLI | हरी मिर्च 2 NOS. (CHOPPED)\\nGINGER | अदरक 1 INCH (CHOPPED)\\nBLACK PEPPER | काली मिर्च A PINCH (FRESHLY CRUSHED)\\nASAFOETIDA | हींग ¼ TSP\\n Method:\\nAdd the washed & soaked tur dal in a pressure cooker along with enough water & turmeric powder, put the lid & pressure cook the dal for 3-4 whistles over high flame.\\nOnce cooked let the cooker depressurize naturally & then take off the lid, whisk the dal well using a whisk, make sure it should become completely smooth & watery.\\nSet a stock pot over high heat & add oil into it, once the oil gets hot add in the red chillies, mustard seeds, curry leaves, green chilli & garlic, stir well & cook briefly.\\nFurther add asafoetida, tomato, salt & coriander stem, stir well & cook until the tomatoes get mushy.\\nAdd turmeric powder & tamarind pulp along with jaggery & hot water, stir & cook for 3-4 minutes until the raw smell of the tamarind is gone.\\nThen add the cooked tur dal & hot water to adjust the consistency, rasam is always watery, it is not as thick as sambar.\\nLet the rasam simmer for 7-8 minutes, if it thickens up then add more hot water to it.\\nOnce you have let the rasam simmer, add rasam powder to a bowl along with a few tablespoons of water, stir well until no lumps remain & add the mixture to the rasam & stir well.\\nTaste & adjust the salt at this stage & add crushed black peppercorns along with fresh coriander, stir & cook for 2-3 minutes, the rasam is ready. \\nWash the urad dal & soak it for 3-4 hours, once the dal is soaked, drain the excess water & add the soaked urad dal into a mixer grinder jar & grind the dal coarsely  using minimal water (it should be ice cold), the texture of the dal should neither be completely smooth nor extremely coarse.\\nFurther transfer the dal into a bowl & whisk it for 3-4 minutes using your hand or a whisk until it gets light & fluffy.\\nTo check if the batter is ready, add a small portion of it in a bowl of water, if the batter floats, then you can continue with the addition of further ingredients.\\nFurther add salt, ginger, green chilli, asafoetida, curry leaves & mix it very gently.\\nTo fry the vadas, heat the oil in a kadhai until it gets moderately hot or 170 C.\\nTo shape the vadas dip your hand in cold water & scoop out a small bite sized portion of the batter from the bowl & carefully drop it into the hot oil, add other portions similar & then immediately spash hot oil over the vadas so that they puff up & then fry over medium flame while flipping it at regular intervals until light golden brown.\\nOnce the vadas get golden brown & crisp, remove them using a spider & transfer them into a sieve, the vadas are ready.\\nTo serve the rasam vada, add a few vadas in a bowl & pour hot rasam over it, you can also directly add the vadas in the rasam after frying. \\n\\n\\n#YFL #SanjyotKeer #RasamVada\\n\\nThe Music I use in All my videos - https://bit.ly/3CdPbSc\\n(Best for independent creators)\\n\\nFollow us on all platforms: \\nFacebook - https://bit.ly/3o6alLt\\nInstagram - https://bit.ly/2RFkL8z\\n\\nFollow my personal handles here: (Chef Sanjyot Keer) \\nFacebook - https://bit.ly/3tpjqQA\\u200b\\u200b\\u200b\\u200b\\u200b\\u200b\\u200b\\u200b\\u200b\\nInstagram - https://bit.ly/3o0FZK8\\nTwitter  -  https://bit.ly/33qQpJN\\n\\nIntro 0:00\\nRasam 1:31\\nVada 6:50\\nPlating 12:50\\nOutro 13:55\"\n",
    "\n",
    "```\n",
    "we can extract things like \n",
    "recipe_name, ingredents, preparation_time, cooking_time by passing this description to a LLM model and asking it to return it into JSON format which is then parsed, formatted and validated through pydantic\n"
   ]
  },
  {
   "cell_type": "code",
   "execution_count": 20,
   "metadata": {},
   "outputs": [],
   "source": [
    "import ollama"
   ]
  },
  {
   "cell_type": "code",
   "execution_count": 21,
   "metadata": {},
   "outputs": [
    {
     "name": "stdout",
     "output_type": "stream",
     "text": [
      " The color of the sky appears predominantly blue due to a phenomenon called Rayleigh scattering. This occurs when molecules and small particles in Earth' end atmosphere scatter sunlight in all directions. Blue light is scattered more because it travels as shorter, smaller waves compared to red or yellow light (longer wavelength). As a result of this increased scattering efficiency for blue light, we see the sky appear predominantly in shades of blue on a clear day when looking towards the sun. At sunrithes during twilight, however, as the Sun’s position lowers across the horizon and its light path through our atmosphere becomes longer, more red and yellow hues are visible due to less scattering for these colors being absorbed by ozone in our stratosphere before they reach us.\n"
     ]
    }
   ],
   "source": [
    "response = ollama.chat(model='phi3:mini', messages=[\n",
    "  {\n",
    "    'role': 'user',\n",
    "    'content': 'Why is the sky blue?',\n",
    "  },\n",
    "])\n",
    "print(response['message']['content'])"
   ]
  },
  {
   "cell_type": "code",
   "execution_count": 22,
   "metadata": {},
   "outputs": [],
   "source": [
    "import pandas as pd\n",
    "from langchain_community.llms import Ollama\n",
    "from langchain.prompts import PromptTemplate\n",
    "from langchain.output_parsers import PydanticOutputParser\n",
    "from pydantic import BaseModel, Field\n",
    "from typing import List\n",
    "\n",
    "class RecipeInfo(BaseModel):\n",
    "    recipe_name: str = Field(description=\"Name of the recipe (in English), concise like Dal bati, Red Curry, Rajma Chawal, Rasam wada\")\n",
    "    # ingredients: List[dict] = Field(description=\"List of ingredients with quantities like Chickpeas: 500g , tomatoes: 2 \")\n",
    "    # preparation_time: int = Field(description=\"Preparation time in minutes like 15, 25, 40\")\n",
    "    # cooking_time: int = Field(description=\"Cooking time in minutes like 10, 45, 1hr should be 60\")\n",
    "\n",
    "llm = Ollama(model=\"phi3:mini\")\n",
    "parser = PydanticOutputParser(pydantic_object=RecipeInfo)\n",
    "prompt_template = PromptTemplate(\n",
    "    template=\n",
    "    \"\"\"Extract the following information like \\n{format_instructions}\\n\\nfrom the below text: {text} . Be concise and short, you are a data parser for python\n",
    "    so return the format as asked.\n",
    "    \"\"\",\n",
    "    input_variables=[\"text\"],\n",
    "    partial_variables={\"format_instructions\": parser.get_format_instructions()}\n",
    ")\n",
    "\n",
    "def process_recipe(text):\n",
    "    prompt = prompt_template.format(text=text)\n",
    "    response = llm(prompt)\n",
    "    parsed_response = parser.parse(response)\n",
    "    return parsed_response"
   ]
  },
  {
   "cell_type": "code",
   "execution_count": 23,
   "metadata": {},
   "outputs": [
    {
     "ename": "OutputParserException",
     "evalue": "Failed to parse RecipeInfo from completion {\"title\": \"Peri Peri Chicken Recipe\", \"ingredients_list\": [{\"item\": \"green chilli paste\", \"quantity\": null}, {\"item\": \"remaining marinade ingredients\"}, {\"item\": \"chicken pieces, sliced/diced\"}, {\"item\": \"papad jaali\", \"quantity\": 1}, {\"item\": \"red bell pepper\", \"quantity\": null}, {\"item\": \"onion\", \"quantity\": null}, {\"item\": \"tomatoes\", \"quantity\": null}, {\"item\": \"ginger garlic paste\", \"quantity\": null}, {\"item\": \"peri peri seasoning\"}, {\"item\": \"Kashmiri red chilli powder\"}, {\"item\": \"salt to taste\"}, {\"item\": \"lemon juice and zest, sugar as per preference\"}], \"instructions\": [{\"step\": \"1\", \"time\": null, \"description\": \"Extract the green chilli paste & remaining marinade ingredients of the marinade. Mix well and coat sliced/diced chicken with it.\"}, {\"step\": \"2\", \"time\": \"Let sit for a few hours or while making sauce.\", \"description\": null}, {\"step\": \"3\", \"time\": \"5-10 minutes after charring bell pepper and onion until they get slightly blackened. Remove, set aside.\"}, {\"step\": \"4\", \"time\": null, \"description\": null}, {\"step\": \"5\", \"time\": 10}]}. Got: 4 validation errors for RecipeInfo\nrecipe_name\n  Field required [type=missing, input_value={'title': 'Peri Peri Chic...tep': '5', 'time': 10}]}, input_type=dict]\n    For further information visit https://errors.pydantic.dev/2.8/v/missing\ningredients\n  Field required [type=missing, input_value={'title': 'Peri Peri Chic...tep': '5', 'time': 10}]}, input_type=dict]\n    For further information visit https://errors.pydantic.dev/2.8/v/missing\npreparation_time\n  Field required [type=missing, input_value={'title': 'Peri Peri Chic...tep': '5', 'time': 10}]}, input_type=dict]\n    For further information visit https://errors.pydantic.dev/2.8/v/missing\ncooking_time\n  Field required [type=missing, input_value={'title': 'Peri Peri Chic...tep': '5', 'time': 10}]}, input_type=dict]\n    For further information visit https://errors.pydantic.dev/2.8/v/missing",
     "output_type": "error",
     "traceback": [
      "\u001b[0;31m---------------------------------------------------------------------------\u001b[0m",
      "\u001b[0;31mValidationError\u001b[0m                           Traceback (most recent call last)",
      "File \u001b[0;32m~/miniconda3/envs/yfl/lib/python3.12/site-packages/langchain_core/output_parsers/pydantic.py:33\u001b[0m, in \u001b[0;36mPydanticOutputParser._parse_obj\u001b[0;34m(self, obj)\u001b[0m\n\u001b[1;32m     32\u001b[0m \u001b[38;5;28;01mif\u001b[39;00m \u001b[38;5;28missubclass\u001b[39m(\u001b[38;5;28mself\u001b[39m\u001b[38;5;241m.\u001b[39mpydantic_object, pydantic\u001b[38;5;241m.\u001b[39mBaseModel):\n\u001b[0;32m---> 33\u001b[0m     \u001b[38;5;28;01mreturn\u001b[39;00m \u001b[38;5;28;43mself\u001b[39;49m\u001b[38;5;241;43m.\u001b[39;49m\u001b[43mpydantic_object\u001b[49m\u001b[38;5;241;43m.\u001b[39;49m\u001b[43mmodel_validate\u001b[49m\u001b[43m(\u001b[49m\u001b[43mobj\u001b[49m\u001b[43m)\u001b[49m\n\u001b[1;32m     34\u001b[0m \u001b[38;5;28;01melif\u001b[39;00m \u001b[38;5;28missubclass\u001b[39m(\u001b[38;5;28mself\u001b[39m\u001b[38;5;241m.\u001b[39mpydantic_object, pydantic\u001b[38;5;241m.\u001b[39mv1\u001b[38;5;241m.\u001b[39mBaseModel):\n",
      "File \u001b[0;32m~/miniconda3/envs/yfl/lib/python3.12/site-packages/pydantic/main.py:568\u001b[0m, in \u001b[0;36mBaseModel.model_validate\u001b[0;34m(cls, obj, strict, from_attributes, context)\u001b[0m\n\u001b[1;32m    567\u001b[0m __tracebackhide__ \u001b[38;5;241m=\u001b[39m \u001b[38;5;28;01mTrue\u001b[39;00m\n\u001b[0;32m--> 568\u001b[0m \u001b[38;5;28;01mreturn\u001b[39;00m \u001b[38;5;28;43mcls\u001b[39;49m\u001b[38;5;241;43m.\u001b[39;49m\u001b[43m__pydantic_validator__\u001b[49m\u001b[38;5;241;43m.\u001b[39;49m\u001b[43mvalidate_python\u001b[49m\u001b[43m(\u001b[49m\n\u001b[1;32m    569\u001b[0m \u001b[43m    \u001b[49m\u001b[43mobj\u001b[49m\u001b[43m,\u001b[49m\u001b[43m \u001b[49m\u001b[43mstrict\u001b[49m\u001b[38;5;241;43m=\u001b[39;49m\u001b[43mstrict\u001b[49m\u001b[43m,\u001b[49m\u001b[43m \u001b[49m\u001b[43mfrom_attributes\u001b[49m\u001b[38;5;241;43m=\u001b[39;49m\u001b[43mfrom_attributes\u001b[49m\u001b[43m,\u001b[49m\u001b[43m \u001b[49m\u001b[43mcontext\u001b[49m\u001b[38;5;241;43m=\u001b[39;49m\u001b[43mcontext\u001b[49m\n\u001b[1;32m    570\u001b[0m \u001b[43m\u001b[49m\u001b[43m)\u001b[49m\n",
      "\u001b[0;31mValidationError\u001b[0m: 4 validation errors for RecipeInfo\nrecipe_name\n  Field required [type=missing, input_value={'title': 'Peri Peri Chic...tep': '5', 'time': 10}]}, input_type=dict]\n    For further information visit https://errors.pydantic.dev/2.8/v/missing\ningredients\n  Field required [type=missing, input_value={'title': 'Peri Peri Chic...tep': '5', 'time': 10}]}, input_type=dict]\n    For further information visit https://errors.pydantic.dev/2.8/v/missing\npreparation_time\n  Field required [type=missing, input_value={'title': 'Peri Peri Chic...tep': '5', 'time': 10}]}, input_type=dict]\n    For further information visit https://errors.pydantic.dev/2.8/v/missing\ncooking_time\n  Field required [type=missing, input_value={'title': 'Peri Peri Chic...tep': '5', 'time': 10}]}, input_type=dict]\n    For further information visit https://errors.pydantic.dev/2.8/v/missing",
      "\nDuring handling of the above exception, another exception occurred:\n",
      "\u001b[0;31mOutputParserException\u001b[0m                     Traceback (most recent call last)",
      "Cell \u001b[0;32mIn[23], line 2\u001b[0m\n\u001b[1;32m      1\u001b[0m test_sample_str \u001b[38;5;241m=\u001b[39m data[\u001b[38;5;124m\"\u001b[39m\u001b[38;5;124mdescription\u001b[39m\u001b[38;5;124m\"\u001b[39m][\u001b[38;5;241m1\u001b[39m]\n\u001b[0;32m----> 2\u001b[0m \u001b[43mprocess_recipe\u001b[49m\u001b[43m(\u001b[49m\u001b[43mtest_sample_str\u001b[49m\u001b[43m)\u001b[49m\n",
      "Cell \u001b[0;32mIn[22], line 28\u001b[0m, in \u001b[0;36mprocess_recipe\u001b[0;34m(text)\u001b[0m\n\u001b[1;32m     26\u001b[0m prompt \u001b[38;5;241m=\u001b[39m prompt_template\u001b[38;5;241m.\u001b[39mformat(text\u001b[38;5;241m=\u001b[39mtext)\n\u001b[1;32m     27\u001b[0m response \u001b[38;5;241m=\u001b[39m llm(prompt)\n\u001b[0;32m---> 28\u001b[0m parsed_response \u001b[38;5;241m=\u001b[39m \u001b[43mparser\u001b[49m\u001b[38;5;241;43m.\u001b[39;49m\u001b[43mparse\u001b[49m\u001b[43m(\u001b[49m\u001b[43mresponse\u001b[49m\u001b[43m)\u001b[49m\n\u001b[1;32m     29\u001b[0m \u001b[38;5;28;01mreturn\u001b[39;00m parsed_response\n",
      "File \u001b[0;32m~/miniconda3/envs/yfl/lib/python3.12/site-packages/langchain_core/output_parsers/pydantic.py:84\u001b[0m, in \u001b[0;36mPydanticOutputParser.parse\u001b[0;34m(self, text)\u001b[0m\n\u001b[1;32m     75\u001b[0m \u001b[38;5;28;01mdef\u001b[39;00m \u001b[38;5;21mparse\u001b[39m(\u001b[38;5;28mself\u001b[39m, text: \u001b[38;5;28mstr\u001b[39m) \u001b[38;5;241m-\u001b[39m\u001b[38;5;241m>\u001b[39m TBaseModel:\n\u001b[1;32m     76\u001b[0m \u001b[38;5;250m    \u001b[39m\u001b[38;5;124;03m\"\"\"Parse the output of an LLM call to a pydantic object.\u001b[39;00m\n\u001b[1;32m     77\u001b[0m \n\u001b[1;32m     78\u001b[0m \u001b[38;5;124;03m    Args:\u001b[39;00m\n\u001b[0;32m   (...)\u001b[0m\n\u001b[1;32m     82\u001b[0m \u001b[38;5;124;03m        The parsed pydantic object.\u001b[39;00m\n\u001b[1;32m     83\u001b[0m \u001b[38;5;124;03m    \"\"\"\u001b[39;00m\n\u001b[0;32m---> 84\u001b[0m     \u001b[38;5;28;01mreturn\u001b[39;00m \u001b[38;5;28;43msuper\u001b[39;49m\u001b[43m(\u001b[49m\u001b[43m)\u001b[49m\u001b[38;5;241;43m.\u001b[39;49m\u001b[43mparse\u001b[49m\u001b[43m(\u001b[49m\u001b[43mtext\u001b[49m\u001b[43m)\u001b[49m\n",
      "File \u001b[0;32m~/miniconda3/envs/yfl/lib/python3.12/site-packages/langchain_core/output_parsers/json.py:98\u001b[0m, in \u001b[0;36mJsonOutputParser.parse\u001b[0;34m(self, text)\u001b[0m\n\u001b[1;32m     89\u001b[0m \u001b[38;5;28;01mdef\u001b[39;00m \u001b[38;5;21mparse\u001b[39m(\u001b[38;5;28mself\u001b[39m, text: \u001b[38;5;28mstr\u001b[39m) \u001b[38;5;241m-\u001b[39m\u001b[38;5;241m>\u001b[39m Any:\n\u001b[1;32m     90\u001b[0m \u001b[38;5;250m    \u001b[39m\u001b[38;5;124;03m\"\"\"Parse the output of an LLM call to a JSON object.\u001b[39;00m\n\u001b[1;32m     91\u001b[0m \n\u001b[1;32m     92\u001b[0m \u001b[38;5;124;03m    Args:\u001b[39;00m\n\u001b[0;32m   (...)\u001b[0m\n\u001b[1;32m     96\u001b[0m \u001b[38;5;124;03m        The parsed JSON object.\u001b[39;00m\n\u001b[1;32m     97\u001b[0m \u001b[38;5;124;03m    \"\"\"\u001b[39;00m\n\u001b[0;32m---> 98\u001b[0m     \u001b[38;5;28;01mreturn\u001b[39;00m \u001b[38;5;28;43mself\u001b[39;49m\u001b[38;5;241;43m.\u001b[39;49m\u001b[43mparse_result\u001b[49m\u001b[43m(\u001b[49m\u001b[43m[\u001b[49m\u001b[43mGeneration\u001b[49m\u001b[43m(\u001b[49m\u001b[43mtext\u001b[49m\u001b[38;5;241;43m=\u001b[39;49m\u001b[43mtext\u001b[49m\u001b[43m)\u001b[49m\u001b[43m]\u001b[49m\u001b[43m)\u001b[49m\n",
      "File \u001b[0;32m~/miniconda3/envs/yfl/lib/python3.12/site-packages/langchain_core/output_parsers/pydantic.py:73\u001b[0m, in \u001b[0;36mPydanticOutputParser.parse_result\u001b[0;34m(self, result, partial)\u001b[0m\n\u001b[1;32m     60\u001b[0m \u001b[38;5;250m\u001b[39m\u001b[38;5;124;03m\"\"\"Parse the result of an LLM call to a pydantic object.\u001b[39;00m\n\u001b[1;32m     61\u001b[0m \n\u001b[1;32m     62\u001b[0m \u001b[38;5;124;03mArgs:\u001b[39;00m\n\u001b[0;32m   (...)\u001b[0m\n\u001b[1;32m     70\u001b[0m \u001b[38;5;124;03m    The parsed pydantic object.\u001b[39;00m\n\u001b[1;32m     71\u001b[0m \u001b[38;5;124;03m\"\"\"\u001b[39;00m\n\u001b[1;32m     72\u001b[0m json_object \u001b[38;5;241m=\u001b[39m \u001b[38;5;28msuper\u001b[39m()\u001b[38;5;241m.\u001b[39mparse_result(result)\n\u001b[0;32m---> 73\u001b[0m \u001b[38;5;28;01mreturn\u001b[39;00m \u001b[38;5;28;43mself\u001b[39;49m\u001b[38;5;241;43m.\u001b[39;49m\u001b[43m_parse_obj\u001b[49m\u001b[43m(\u001b[49m\u001b[43mjson_object\u001b[49m\u001b[43m)\u001b[49m\n",
      "File \u001b[0;32m~/miniconda3/envs/yfl/lib/python3.12/site-packages/langchain_core/output_parsers/pydantic.py:42\u001b[0m, in \u001b[0;36mPydanticOutputParser._parse_obj\u001b[0;34m(self, obj)\u001b[0m\n\u001b[1;32m     37\u001b[0m             \u001b[38;5;28;01mraise\u001b[39;00m OutputParserException(\n\u001b[1;32m     38\u001b[0m                 \u001b[38;5;124mf\u001b[39m\u001b[38;5;124m\"\u001b[39m\u001b[38;5;124mUnsupported model version for PydanticOutputParser: \u001b[39m\u001b[38;5;130;01m\\\u001b[39;00m\n\u001b[1;32m     39\u001b[0m \u001b[38;5;124m                    \u001b[39m\u001b[38;5;132;01m{\u001b[39;00m\u001b[38;5;28mself\u001b[39m\u001b[38;5;241m.\u001b[39mpydantic_object\u001b[38;5;241m.\u001b[39m\u001b[38;5;18m__class__\u001b[39m\u001b[38;5;132;01m}\u001b[39;00m\u001b[38;5;124m\"\u001b[39m\n\u001b[1;32m     40\u001b[0m             )\n\u001b[1;32m     41\u001b[0m     \u001b[38;5;28;01mexcept\u001b[39;00m (pydantic\u001b[38;5;241m.\u001b[39mValidationError, pydantic\u001b[38;5;241m.\u001b[39mv1\u001b[38;5;241m.\u001b[39mValidationError) \u001b[38;5;28;01mas\u001b[39;00m e:\n\u001b[0;32m---> 42\u001b[0m         \u001b[38;5;28;01mraise\u001b[39;00m \u001b[38;5;28mself\u001b[39m\u001b[38;5;241m.\u001b[39m_parser_exception(e, obj)\n\u001b[1;32m     43\u001b[0m \u001b[38;5;28;01melse\u001b[39;00m:  \u001b[38;5;66;03m# pydantic v1\u001b[39;00m\n\u001b[1;32m     44\u001b[0m     \u001b[38;5;28;01mtry\u001b[39;00m:\n",
      "\u001b[0;31mOutputParserException\u001b[0m: Failed to parse RecipeInfo from completion {\"title\": \"Peri Peri Chicken Recipe\", \"ingredients_list\": [{\"item\": \"green chilli paste\", \"quantity\": null}, {\"item\": \"remaining marinade ingredients\"}, {\"item\": \"chicken pieces, sliced/diced\"}, {\"item\": \"papad jaali\", \"quantity\": 1}, {\"item\": \"red bell pepper\", \"quantity\": null}, {\"item\": \"onion\", \"quantity\": null}, {\"item\": \"tomatoes\", \"quantity\": null}, {\"item\": \"ginger garlic paste\", \"quantity\": null}, {\"item\": \"peri peri seasoning\"}, {\"item\": \"Kashmiri red chilli powder\"}, {\"item\": \"salt to taste\"}, {\"item\": \"lemon juice and zest, sugar as per preference\"}], \"instructions\": [{\"step\": \"1\", \"time\": null, \"description\": \"Extract the green chilli paste & remaining marinade ingredients of the marinade. Mix well and coat sliced/diced chicken with it.\"}, {\"step\": \"2\", \"time\": \"Let sit for a few hours or while making sauce.\", \"description\": null}, {\"step\": \"3\", \"time\": \"5-10 minutes after charring bell pepper and onion until they get slightly blackened. Remove, set aside.\"}, {\"step\": \"4\", \"time\": null, \"description\": null}, {\"step\": \"5\", \"time\": 10}]}. Got: 4 validation errors for RecipeInfo\nrecipe_name\n  Field required [type=missing, input_value={'title': 'Peri Peri Chic...tep': '5', 'time': 10}]}, input_type=dict]\n    For further information visit https://errors.pydantic.dev/2.8/v/missing\ningredients\n  Field required [type=missing, input_value={'title': 'Peri Peri Chic...tep': '5', 'time': 10}]}, input_type=dict]\n    For further information visit https://errors.pydantic.dev/2.8/v/missing\npreparation_time\n  Field required [type=missing, input_value={'title': 'Peri Peri Chic...tep': '5', 'time': 10}]}, input_type=dict]\n    For further information visit https://errors.pydantic.dev/2.8/v/missing\ncooking_time\n  Field required [type=missing, input_value={'title': 'Peri Peri Chic...tep': '5', 'time': 10}]}, input_type=dict]\n    For further information visit https://errors.pydantic.dev/2.8/v/missing"
     ]
    }
   ],
   "source": [
    "test_sample_str = data[\"description\"][1]\n",
    "process_recipe(test_sample_str)"
   ]
  },
  {
   "cell_type": "code",
   "execution_count": null,
   "metadata": {},
   "outputs": [],
   "source": [
    "\n",
    "df = pd.read_csv('channel_data.csv')\n",
    "df = df[:1]\n",
    "structured_data = df['description'].apply(process_recipe)\n",
    "result_df = pd.DataFrame([vars(item) for item in structured_data])\n",
    "print(result_df)\n"
   ]
  },
  {
   "cell_type": "code",
   "execution_count": null,
   "metadata": {},
   "outputs": [],
   "source": []
  }
 ],
 "metadata": {
  "kernelspec": {
   "display_name": "yfl",
   "language": "python",
   "name": "python3"
  },
  "language_info": {
   "codemirror_mode": {
    "name": "ipython",
    "version": 3
   },
   "file_extension": ".py",
   "mimetype": "text/x-python",
   "name": "python",
   "nbconvert_exporter": "python",
   "pygments_lexer": "ipython3",
   "version": "3.12.4"
  }
 },
 "nbformat": 4,
 "nbformat_minor": 2
}
