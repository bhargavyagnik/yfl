{
 "cells": [
  {
   "cell_type": "code",
   "execution_count": null,
   "metadata": {},
   "outputs": [],
   "source": [
    "import pandas as pd"
   ]
  },
  {
   "cell_type": "code",
   "execution_count": null,
   "metadata": {},
   "outputs": [],
   "source": [
    "data =  pd.read_csv(\"channel_data.csv\")\n",
    "data.head()"
   ]
  },
  {
   "cell_type": "code",
   "execution_count": null,
   "metadata": {},
   "outputs": [],
   "source": [
    "data.info()"
   ]
  },
  {
   "cell_type": "code",
   "execution_count": null,
   "metadata": {},
   "outputs": [],
   "source": [
    "#fillings na values with empty string\n",
    "data[\"description\"] = data[\"description\"].fillna(\"\")"
   ]
  },
  {
   "cell_type": "markdown",
   "metadata": {},
   "source": [
    "## LLM parser"
   ]
  },
  {
   "cell_type": "markdown",
   "metadata": {},
   "source": [
    "For eg. :\n",
    "The first description is \n",
    "```\n",
    "data['description'][0] = \"Rasam Powder: https://youtu.be/YIWBthqArCM?t=59&si=zpnugmEpzvQkN5mb\\n\\nFull written recipe Rasam Vada\\n\\nPrep time: 15-20 minutes (excluding soaking time)\\nCooking time: 25-30 minutes\\nServes: 4-5 people\\n\\nIngredients:\\nRasam\\nTUR DAL | तूर दाल ¼ CUP (SOAKED)\\nWATER | पानी AS REQUIRED \\nTURMERIC POWDER | हल्दी पाउडर ¼ TSP\\nOIL | तेल 2 TBSP\\nMUSTARD SEED | राई ½ TSP\\nCURRY LEAVES | कड़ी पत्ता 12-15 NOS. \\nGREEN CHILLI | हरी मिर्च 2 NOS. (SLIT)\\nRED CHILLI | लाल मिर्च 4 NOS. \\nGARLIC | लहसुन 6 CLOVES (ROUGHLY CHOPPED)\\nASAFOETIDA | हींग ¼ TSP\\nTOMATO | टमाटर 2 NOS. (CHOPPED)\\nCORIANDER STEMS | धनिए के डंठल A HANDFUL (CHOPPED)\\nSALT | नमक TO TASTE\\nTURMERIC POWDER | हल्दी पाउडर ¼ TSP\\nTAMARIND | इमली A LARGE LEMON SIZED BALL. (SOAKED)\\nJAGGERY | गुड़ 1 TBSP\\nHOT WATER | गरम पानी AS REQUIRED \\nRASAM POWDER | रसम पाउडर 3 TBSP\\nBLACK PEPPER | काली मिर्च A LARGE PINCH (FRESHLY CRUSHED)\\nFRESH CORIANDER | हरा धनिया A HANDFUL (ROUGHLY CHOPPED)\\n\\nVada\\nURAD DAL | उरद दाल 1 CUP\\nCOLD WATER | ठंडा पानी AS REQUIRED \\nSALT | नमक TO TASTE\\nCURRY LEAVES | कड़ी पत्ता 10-12 NOS. (CHOPPED)\\nGREEN CHILLI | हरी मिर्च 2 NOS. (CHOPPED)\\nGINGER | अदरक 1 INCH (CHOPPED)\\nBLACK PEPPER | काली मिर्च A PINCH (FRESHLY CRUSHED)\\nASAFOETIDA | हींग ¼ TSP\\n Method:\\nAdd the washed & soaked tur dal in a pressure cooker along with enough water & turmeric powder, put the lid & pressure cook the dal for 3-4 whistles over high flame.\\nOnce cooked let the cooker depressurize naturally & then take off the lid, whisk the dal well using a whisk, make sure it should become completely smooth & watery.\\nSet a stock pot over high heat & add oil into it, once the oil gets hot add in the red chillies, mustard seeds, curry leaves, green chilli & garlic, stir well & cook briefly.\\nFurther add asafoetida, tomato, salt & coriander stem, stir well & cook until the tomatoes get mushy.\\nAdd turmeric powder & tamarind pulp along with jaggery & hot water, stir & cook for 3-4 minutes until the raw smell of the tamarind is gone.\\nThen add the cooked tur dal & hot water to adjust the consistency, rasam is always watery, it is not as thick as sambar.\\nLet the rasam simmer for 7-8 minutes, if it thickens up then add more hot water to it.\\nOnce you have let the rasam simmer, add rasam powder to a bowl along with a few tablespoons of water, stir well until no lumps remain & add the mixture to the rasam & stir well.\\nTaste & adjust the salt at this stage & add crushed black peppercorns along with fresh coriander, stir & cook for 2-3 minutes, the rasam is ready. \\nWash the urad dal & soak it for 3-4 hours, once the dal is soaked, drain the excess water & add the soaked urad dal into a mixer grinder jar & grind the dal coarsely  using minimal water (it should be ice cold), the texture of the dal should neither be completely smooth nor extremely coarse.\\nFurther transfer the dal into a bowl & whisk it for 3-4 minutes using your hand or a whisk until it gets light & fluffy.\\nTo check if the batter is ready, add a small portion of it in a bowl of water, if the batter floats, then you can continue with the addition of further ingredients.\\nFurther add salt, ginger, green chilli, asafoetida, curry leaves & mix it very gently.\\nTo fry the vadas, heat the oil in a kadhai until it gets moderately hot or 170 C.\\nTo shape the vadas dip your hand in cold water & scoop out a small bite sized portion of the batter from the bowl & carefully drop it into the hot oil, add other portions similar & then immediately spash hot oil over the vadas so that they puff up & then fry over medium flame while flipping it at regular intervals until light golden brown.\\nOnce the vadas get golden brown & crisp, remove them using a spider & transfer them into a sieve, the vadas are ready.\\nTo serve the rasam vada, add a few vadas in a bowl & pour hot rasam over it, you can also directly add the vadas in the rasam after frying. \\n\\n\\n#YFL #SanjyotKeer #RasamVada\\n\\nThe Music I use in All my videos - https://bit.ly/3CdPbSc\\n(Best for independent creators)\\n\\nFollow us on all platforms: \\nFacebook - https://bit.ly/3o6alLt\\nInstagram - https://bit.ly/2RFkL8z\\n\\nFollow my personal handles here: (Chef Sanjyot Keer) \\nFacebook - https://bit.ly/3tpjqQA\\u200b\\u200b\\u200b\\u200b\\u200b\\u200b\\u200b\\u200b\\u200b\\nInstagram - https://bit.ly/3o0FZK8\\nTwitter  -  https://bit.ly/33qQpJN\\n\\nIntro 0:00\\nRasam 1:31\\nVada 6:50\\nPlating 12:50\\nOutro 13:55\"\n",
    "\n",
    "```\n",
    "we can extract things like \n",
    "recipe_name, ingredents, preparation_time, cooking_time by passing this description to a LLM model and asking it to return it into JSON format which is then parsed, formatted and validated through pydantic\n"
   ]
  },
  {
   "cell_type": "code",
   "execution_count": null,
   "metadata": {},
   "outputs": [],
   "source": [
    "import ollama\n",
    "response = ollama.chat(model='llama3', messages=[\n",
    "  {\n",
    "    'role': 'user',\n",
    "    'content': 'Why is the sky blue?',\n",
    "  },\n",
    "])\n",
    "print(response['message']['content'])"
   ]
  },
  {
   "cell_type": "code",
   "execution_count": null,
   "metadata": {},
   "outputs": [],
   "source": [
    "import pandas as pd\n",
    "from langchain.prompts import PromptTemplate\n",
    "from langchain.output_parsers import PydanticOutputParser\n",
    "from pydantic import BaseModel, Field\n",
    "from typing import List\n",
    "import google.generativeai as genai\n",
    "from api_keys import GEMINI_API_KEY\n",
    "\n",
    "genai.configure(api_key=GEMINI_API_KEY)\n",
    "model = genai.GenerativeModel('gemini-1.5-flash')\n",
    "\n",
    "\n",
    "class RecipeInfo(BaseModel):\n",
    "    recipe_name: str = Field(description=\"Name of the recipe (in English), concise like Dal bati, Red Curry, Rajma Chawal, Rasam wada\")\n",
    "    ingredents: dict = Field(description=\"Combined single key:value based dict of vegetables,pulses,meat used with quantities like {{'TOMATOES':4,'CHICKEN':'500g'}} \")\n",
    "    preparation_time: int = Field(description=\"Preparation time in minutes like 15, 25, 40\")\n",
    "    cooking_time: int = Field(description=\"Cooking time in minutes like 10, 45, 1hr should be 60\")\n",
    "\n",
    "parser = PydanticOutputParser(pydantic_object=RecipeInfo)\n",
    "prompt_template = PromptTemplate(\n",
    "    template=\n",
    "    \"\"\"Extract the following information in JSON formal: \\n{format_instructions}\\n\\n\n",
    "    from the below text: {text}. \\n\\n\n",
    "    Links are not required to be extracted. \\n\\n Return in JSON object only.\n",
    "    \"\"\",\n",
    "    input_variables=[\"text\"],\n",
    "    partial_variables={\"format_instructions\": parser.get_format_instructions()}\n",
    ")\n",
    "\n",
    "\n",
    "def query_gemini(prompt):\n",
    "    try:\n",
    "        response = model.generate_content(prompt)\n",
    "        return response.text\n",
    "    except Exception as e:\n",
    "        print(f\"Error calling Gemini API: {e}\")\n",
    "        return None  # Or return a specific error message\n",
    "\n",
    "\n",
    "def process_recipe(text):\n",
    "    # Use Gemini instead of Ollama\n",
    "    prompt = prompt_template.format(text=text)\n",
    "    response = query_gemini(prompt)\n",
    "    # print(response)\n",
    "    if response:\n",
    "        try:\n",
    "            parsed_response = parser.parse(response)\n",
    "            return parsed_response\n",
    "        except Exception as e:\n",
    "            print(f\"Error parsing response: {e}\")\n",
    "            return None  # Or return a specific error message\n",
    "    else:\n",
    "        return None  # Handle no response from Gemini\n"
   ]
  },
  {
   "cell_type": "code",
   "execution_count": null,
   "metadata": {},
   "outputs": [],
   "source": [
    "test_sample_str = data[\"description\"][1]\n",
    "x = process_recipe(test_sample_str)"
   ]
  },
  {
   "cell_type": "code",
   "execution_count": null,
   "metadata": {},
   "outputs": [],
   "source": [
    "print(x.recipe_name)\n",
    "print(x.ingredents)\n",
    "print(x.preparation_time)\n",
    "print(x.cooking_time)"
   ]
  },
  {
   "cell_type": "code",
   "execution_count": null,
   "metadata": {},
   "outputs": [],
   "source": [
    "new_cols = [\"recipe_name\", \"ingredients\", \"preparation_time\", \"cooking_time\"]\n",
    "\n",
    "def extract_recipe_info(text):\n",
    "    parsed_data = process_recipe(text)\n",
    "    if parsed_data:\n",
    "        return [parsed_data.recipe_name, [parsed_data.ingredents], parsed_data.preparation_time, parsed_data.cooking_time]\n",
    "    else:\n",
    "        return [None] * len(new_cols)  # Return a list of None for all columns if parsing fails"
   ]
  },
  {
   "cell_type": "code",
   "execution_count": null,
   "metadata": {},
   "outputs": [],
   "source": [
    "df = data[:5]\n",
    "\n",
    "\n",
    "for col in new_cols:\n",
    "    df[col] = None\n",
    "\n",
    "for i,row in  df.iterrows():\n",
    "    if df.loc[i, \"recipe_name\"] is None:\n",
    "        x = extract_recipe_info(row[\"description\"])\n",
    "        for j, col in enumerate(new_cols):\n",
    "            df.loc[i, j] = x[j]\n",
    "    \n",
    "    \n"
   ]
  },
  {
   "cell_type": "code",
   "execution_count": null,
   "metadata": {},
   "outputs": [],
   "source": [
    "df = pd.read_csv(\"channel_data_parsed_g.csv\")\n",
    "df[20:30]"
   ]
  },
  {
   "cell_type": "code",
   "execution_count": null,
   "metadata": {},
   "outputs": [],
   "source": [
    "df[['recipe_name', 'ingredients', 'preparation_time', 'cooking_time']].head()"
   ]
  },
  {
   "cell_type": "code",
   "execution_count": null,
   "metadata": {},
   "outputs": [],
   "source": []
  },
  {
   "cell_type": "markdown",
   "metadata": {},
   "source": [
    "## Random observations"
   ]
  },
  {
   "cell_type": "code",
   "execution_count": 3,
   "metadata": {},
   "outputs": [],
   "source": [
    "import pandas as pd"
   ]
  },
  {
   "cell_type": "code",
   "execution_count": 8,
   "metadata": {},
   "outputs": [],
   "source": [
    "data = pd.read_csv(\"channel_data_parsed_g.csv\")"
   ]
  },
  {
   "cell_type": "code",
   "execution_count": 9,
   "metadata": {},
   "outputs": [
    {
     "name": "stdout",
     "output_type": "stream",
     "text": [
      "<class 'pandas.core.frame.DataFrame'>\n",
      "RangeIndex: 1457 entries, 0 to 1456\n",
      "Data columns (total 7 columns):\n",
      " #   Column            Non-Null Count  Dtype  \n",
      "---  ------            --------------  -----  \n",
      " 0   title             1457 non-null   object \n",
      " 1   description       1380 non-null   object \n",
      " 2   url               1457 non-null   object \n",
      " 3   recipe_name       1282 non-null   object \n",
      " 4   ingredients       1282 non-null   object \n",
      " 5   preparation_time  1282 non-null   float64\n",
      " 6   cooking_time      1282 non-null   float64\n",
      "dtypes: float64(2), object(5)\n",
      "memory usage: 79.8+ KB\n"
     ]
    }
   ],
   "source": [
    "data.info()"
   ]
  },
  {
   "cell_type": "code",
   "execution_count": 10,
   "metadata": {},
   "outputs": [
    {
     "data": {
      "text/html": [
       "<div>\n",
       "<style scoped>\n",
       "    .dataframe tbody tr th:only-of-type {\n",
       "        vertical-align: middle;\n",
       "    }\n",
       "\n",
       "    .dataframe tbody tr th {\n",
       "        vertical-align: top;\n",
       "    }\n",
       "\n",
       "    .dataframe thead th {\n",
       "        text-align: right;\n",
       "    }\n",
       "</style>\n",
       "<table border=\"1\" class=\"dataframe\">\n",
       "  <thead>\n",
       "    <tr style=\"text-align: right;\">\n",
       "      <th></th>\n",
       "      <th>title</th>\n",
       "      <th>description</th>\n",
       "      <th>url</th>\n",
       "      <th>recipe_name</th>\n",
       "      <th>ingredients</th>\n",
       "      <th>preparation_time</th>\n",
       "      <th>cooking_time</th>\n",
       "    </tr>\n",
       "  </thead>\n",
       "  <tbody>\n",
       "    <tr>\n",
       "      <th>0</th>\n",
       "      <td>Rasam Vada Recipe | Tomato Rasam | Perfect Vad...</td>\n",
       "      <td>Rasam Powder: https://youtu.be/YIWBthqArCM?t=5...</td>\n",
       "      <td>https://www.youtube.com/watch?v=7LpEu6rTyHs</td>\n",
       "      <td>Rasam Vada</td>\n",
       "      <td>{'TUR DAL': '0.25', 'WATER': 'AS REQUIRED', 'T...</td>\n",
       "      <td>20.0</td>\n",
       "      <td>30.0</td>\n",
       "    </tr>\n",
       "    <tr>\n",
       "      <th>1</th>\n",
       "      <td>Peri Peri Chicken with Butter Rice | Spicy Hom...</td>\n",
       "      <td>Full written recipe of Chicken in Peri Peri Sa...</td>\n",
       "      <td>https://www.youtube.com/watch?v=d9_YSS1lB1w</td>\n",
       "      <td>Chicken in Peri Peri Sauce with Butter Rice</td>\n",
       "      <td>{'CHICKEN': '400-450 GRAMS', 'OLIVE OIL': '3 T...</td>\n",
       "      <td>15.0</td>\n",
       "      <td>30.0</td>\n",
       "    </tr>\n",
       "    <tr>\n",
       "      <th>2</th>\n",
       "      <td>Homestyle Turai Ki Sabzi | Turai Ka Bharta | त...</td>\n",
       "      <td>Full written recipe of Turai Ki Sabzi\\nPrep ti...</td>\n",
       "      <td>https://www.youtube.com/watch?v=nX5vogjw_yk</td>\n",
       "      <td>Turai Ki Sabzi</td>\n",
       "      <td>{'SPONGE GOURD': 1, 'ONION': 2, 'TOMATO': 2, '...</td>\n",
       "      <td>10.0</td>\n",
       "      <td>25.0</td>\n",
       "    </tr>\n",
       "    <tr>\n",
       "      <th>3</th>\n",
       "      <td>Chicken Pepper Fry Recipe | Pepper Chicken Mas...</td>\n",
       "      <td>Full written recipe for Chicken Pepper Fry\\nPr...</td>\n",
       "      <td>https://www.youtube.com/watch?v=5R6nNJC-FVE</td>\n",
       "      <td>Chicken Pepper Fry</td>\n",
       "      <td>{'BLACK PEPPERCORNS': 2, 'CUMIN SEEDS': 1, 'FE...</td>\n",
       "      <td>10.0</td>\n",
       "      <td>20.0</td>\n",
       "    </tr>\n",
       "    <tr>\n",
       "      <th>4</th>\n",
       "      <td>Achari Paneer Recipe | Dhaba Style Paneer Grav...</td>\n",
       "      <td>Full written recipe of Achari Paneer \\nPrep ti...</td>\n",
       "      <td>https://www.youtube.com/watch?v=P514UYjzZ-E</td>\n",
       "      <td>Achari Paneer</td>\n",
       "      <td>{'FENNEL SEEDS': 2, 'CUMIN SEEDS': 1, 'MUSTARD...</td>\n",
       "      <td>25.0</td>\n",
       "      <td>45.0</td>\n",
       "    </tr>\n",
       "  </tbody>\n",
       "</table>\n",
       "</div>"
      ],
      "text/plain": [
       "                                               title  \\\n",
       "0  Rasam Vada Recipe | Tomato Rasam | Perfect Vad...   \n",
       "1  Peri Peri Chicken with Butter Rice | Spicy Hom...   \n",
       "2  Homestyle Turai Ki Sabzi | Turai Ka Bharta | त...   \n",
       "3  Chicken Pepper Fry Recipe | Pepper Chicken Mas...   \n",
       "4  Achari Paneer Recipe | Dhaba Style Paneer Grav...   \n",
       "\n",
       "                                         description  \\\n",
       "0  Rasam Powder: https://youtu.be/YIWBthqArCM?t=5...   \n",
       "1  Full written recipe of Chicken in Peri Peri Sa...   \n",
       "2  Full written recipe of Turai Ki Sabzi\\nPrep ti...   \n",
       "3  Full written recipe for Chicken Pepper Fry\\nPr...   \n",
       "4  Full written recipe of Achari Paneer \\nPrep ti...   \n",
       "\n",
       "                                           url  \\\n",
       "0  https://www.youtube.com/watch?v=7LpEu6rTyHs   \n",
       "1  https://www.youtube.com/watch?v=d9_YSS1lB1w   \n",
       "2  https://www.youtube.com/watch?v=nX5vogjw_yk   \n",
       "3  https://www.youtube.com/watch?v=5R6nNJC-FVE   \n",
       "4  https://www.youtube.com/watch?v=P514UYjzZ-E   \n",
       "\n",
       "                                   recipe_name  \\\n",
       "0                                   Rasam Vada   \n",
       "1  Chicken in Peri Peri Sauce with Butter Rice   \n",
       "2                               Turai Ki Sabzi   \n",
       "3                           Chicken Pepper Fry   \n",
       "4                                Achari Paneer   \n",
       "\n",
       "                                         ingredients  preparation_time  \\\n",
       "0  {'TUR DAL': '0.25', 'WATER': 'AS REQUIRED', 'T...              20.0   \n",
       "1  {'CHICKEN': '400-450 GRAMS', 'OLIVE OIL': '3 T...              15.0   \n",
       "2  {'SPONGE GOURD': 1, 'ONION': 2, 'TOMATO': 2, '...              10.0   \n",
       "3  {'BLACK PEPPERCORNS': 2, 'CUMIN SEEDS': 1, 'FE...              10.0   \n",
       "4  {'FENNEL SEEDS': 2, 'CUMIN SEEDS': 1, 'MUSTARD...              25.0   \n",
       "\n",
       "   cooking_time  \n",
       "0          30.0  \n",
       "1          30.0  \n",
       "2          25.0  \n",
       "3          20.0  \n",
       "4          45.0  "
      ]
     },
     "execution_count": 10,
     "metadata": {},
     "output_type": "execute_result"
    }
   ],
   "source": [
    "data.head()"
   ]
  },
  {
   "cell_type": "code",
   "execution_count": 12,
   "metadata": {},
   "outputs": [],
   "source": [
    "data[\"recipe_id\"] = data.index"
   ]
  },
  {
   "cell_type": "code",
   "execution_count": 24,
   "metadata": {},
   "outputs": [],
   "source": [
    "import ast\n",
    "\n",
    "data.dropna(subset=[\"ingredients\"], inplace=True)\n",
    "data[\"ingredients_dict\"] = data[\"ingredients\"].apply(ast.literal_eval)\n",
    "# data[\"ingredients\"][0]"
   ]
  },
  {
   "cell_type": "code",
   "execution_count": 29,
   "metadata": {},
   "outputs": [],
   "source": [
    "ings = set()\n",
    "for i in data[\"ingredients_dict\"]:\n",
    "    ings.update(i.keys())"
   ]
  },
  {
   "cell_type": "code",
   "execution_count": 31,
   "metadata": {},
   "outputs": [
    {
     "data": {
      "text/plain": [
       "2000"
      ]
     },
     "execution_count": 31,
     "metadata": {},
     "output_type": "execute_result"
    }
   ],
   "source": [
    "len(ings)"
   ]
  },
  {
   "cell_type": "code",
   "execution_count": 32,
   "metadata": {},
   "outputs": [],
   "source": [
    "ings_df = pd.DataFrame(ings, columns=[\"ingredient\"])\n",
    "\n",
    "ings_df['recipe_ids'] = ings_df['ingredient'].apply(lambda x: data[data[\"ingredients_dict\"].apply(lambda y: x in y)].index.tolist())"
   ]
  },
  {
   "cell_type": "code",
   "execution_count": 35,
   "metadata": {},
   "outputs": [
    {
     "data": {
      "text/html": [
       "<div>\n",
       "<style scoped>\n",
       "    .dataframe tbody tr th:only-of-type {\n",
       "        vertical-align: middle;\n",
       "    }\n",
       "\n",
       "    .dataframe tbody tr th {\n",
       "        vertical-align: top;\n",
       "    }\n",
       "\n",
       "    .dataframe thead th {\n",
       "        text-align: right;\n",
       "    }\n",
       "</style>\n",
       "<table border=\"1\" class=\"dataframe\">\n",
       "  <thead>\n",
       "    <tr style=\"text-align: right;\">\n",
       "      <th></th>\n",
       "      <th>ingredient</th>\n",
       "      <th>recipe_ids</th>\n",
       "    </tr>\n",
       "  </thead>\n",
       "  <tbody>\n",
       "    <tr>\n",
       "      <th>175</th>\n",
       "      <td>TOMATOES</td>\n",
       "      <td>[40, 41, 53, 65, 70, 118, 121, 142, 154, 157, ...</td>\n",
       "    </tr>\n",
       "  </tbody>\n",
       "</table>\n",
       "</div>"
      ],
      "text/plain": [
       "    ingredient                                         recipe_ids\n",
       "175   TOMATOES  [40, 41, 53, 65, 70, 118, 121, 142, 154, 157, ..."
      ]
     },
     "execution_count": 35,
     "metadata": {},
     "output_type": "execute_result"
    }
   ],
   "source": [
    "ings_df[ings_df[\"ingredient\"] == \"TOMATOES\"]"
   ]
  },
  {
   "cell_type": "code",
   "execution_count": 36,
   "metadata": {},
   "outputs": [],
   "source": [
    "ings_df.to_csv(\"ingredients.csv\", index=False)"
   ]
  },
  {
   "cell_type": "code",
   "execution_count": null,
   "metadata": {},
   "outputs": [],
   "source": [
    "class GradeDocuments(BaseModel):\n",
    "    \"\"\"Binary score for relevance check on retrieved documents.\"\"\"\n",
    "    binary_score: str = Field(description=\"Documents are relevant to the question, 'yes' or 'no'\")\n",
    "\n",
    "\n",
    "llm = OllamaFunctions(model=\"gemma:2b\", format=\"json\", temperature=0)\n",
    "structured_llm_documents_grader = llm.with_structured_output(\n",
    "      GradeDocuments)\n",
    "chain = grade_prompt | structured_llm_documents_grader\n",
    "\n",
    "\n",
    "chain.invoke({\"question\": question, \"document\": document.page_content})"
   ]
  }
 ],
 "metadata": {
  "kernelspec": {
   "display_name": "yfl",
   "language": "python",
   "name": "python3"
  },
  "language_info": {
   "codemirror_mode": {
    "name": "ipython",
    "version": 3
   },
   "file_extension": ".py",
   "mimetype": "text/x-python",
   "name": "python",
   "nbconvert_exporter": "python",
   "pygments_lexer": "ipython3",
   "version": "3.12.4"
  }
 },
 "nbformat": 4,
 "nbformat_minor": 2
}
