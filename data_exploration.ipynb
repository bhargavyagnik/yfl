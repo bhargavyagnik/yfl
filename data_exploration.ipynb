{
 "cells": [
  {
   "cell_type": "code",
   "execution_count": 4,
   "metadata": {},
   "outputs": [],
   "source": [
    "import pandas as pd"
   ]
  },
  {
   "cell_type": "code",
   "execution_count": 5,
   "metadata": {},
   "outputs": [
    {
     "data": {
      "text/html": [
       "<div>\n",
       "<style scoped>\n",
       "    .dataframe tbody tr th:only-of-type {\n",
       "        vertical-align: middle;\n",
       "    }\n",
       "\n",
       "    .dataframe tbody tr th {\n",
       "        vertical-align: top;\n",
       "    }\n",
       "\n",
       "    .dataframe thead th {\n",
       "        text-align: right;\n",
       "    }\n",
       "</style>\n",
       "<table border=\"1\" class=\"dataframe\">\n",
       "  <thead>\n",
       "    <tr style=\"text-align: right;\">\n",
       "      <th></th>\n",
       "      <th>title</th>\n",
       "      <th>description</th>\n",
       "      <th>url</th>\n",
       "    </tr>\n",
       "  </thead>\n",
       "  <tbody>\n",
       "    <tr>\n",
       "      <th>0</th>\n",
       "      <td>Rasam Vada Recipe | Tomato Rasam | Perfect Vad...</td>\n",
       "      <td>Rasam Powder: https://youtu.be/YIWBthqArCM?t=5...</td>\n",
       "      <td>https://www.youtube.com/watch?v=7LpEu6rTyHs</td>\n",
       "    </tr>\n",
       "    <tr>\n",
       "      <th>1</th>\n",
       "      <td>Peri Peri Chicken with Butter Rice | Spicy Hom...</td>\n",
       "      <td>Full written recipe of Chicken in Peri Peri Sa...</td>\n",
       "      <td>https://www.youtube.com/watch?v=d9_YSS1lB1w</td>\n",
       "    </tr>\n",
       "    <tr>\n",
       "      <th>2</th>\n",
       "      <td>Homestyle Turai Ki Sabzi | Turai Ka Bharta | त...</td>\n",
       "      <td>Full written recipe of Turai Ki Sabzi\\nPrep ti...</td>\n",
       "      <td>https://www.youtube.com/watch?v=nX5vogjw_yk</td>\n",
       "    </tr>\n",
       "    <tr>\n",
       "      <th>3</th>\n",
       "      <td>Chicken Pepper Fry Recipe | Pepper Chicken Mas...</td>\n",
       "      <td>Full written recipe for Chicken Pepper Fry\\nPr...</td>\n",
       "      <td>https://www.youtube.com/watch?v=5R6nNJC-FVE</td>\n",
       "    </tr>\n",
       "    <tr>\n",
       "      <th>4</th>\n",
       "      <td>Achari Paneer Recipe | Dhaba Style Paneer Grav...</td>\n",
       "      <td>Full written recipe of Achari Paneer \\nPrep ti...</td>\n",
       "      <td>https://www.youtube.com/watch?v=P514UYjzZ-E</td>\n",
       "    </tr>\n",
       "  </tbody>\n",
       "</table>\n",
       "</div>"
      ],
      "text/plain": [
       "                                               title  \\\n",
       "0  Rasam Vada Recipe | Tomato Rasam | Perfect Vad...   \n",
       "1  Peri Peri Chicken with Butter Rice | Spicy Hom...   \n",
       "2  Homestyle Turai Ki Sabzi | Turai Ka Bharta | त...   \n",
       "3  Chicken Pepper Fry Recipe | Pepper Chicken Mas...   \n",
       "4  Achari Paneer Recipe | Dhaba Style Paneer Grav...   \n",
       "\n",
       "                                         description  \\\n",
       "0  Rasam Powder: https://youtu.be/YIWBthqArCM?t=5...   \n",
       "1  Full written recipe of Chicken in Peri Peri Sa...   \n",
       "2  Full written recipe of Turai Ki Sabzi\\nPrep ti...   \n",
       "3  Full written recipe for Chicken Pepper Fry\\nPr...   \n",
       "4  Full written recipe of Achari Paneer \\nPrep ti...   \n",
       "\n",
       "                                           url  \n",
       "0  https://www.youtube.com/watch?v=7LpEu6rTyHs  \n",
       "1  https://www.youtube.com/watch?v=d9_YSS1lB1w  \n",
       "2  https://www.youtube.com/watch?v=nX5vogjw_yk  \n",
       "3  https://www.youtube.com/watch?v=5R6nNJC-FVE  \n",
       "4  https://www.youtube.com/watch?v=P514UYjzZ-E  "
      ]
     },
     "execution_count": 5,
     "metadata": {},
     "output_type": "execute_result"
    }
   ],
   "source": [
    "data =  pd.read_csv(\"channel_data.csv\")\n",
    "data.head()"
   ]
  },
  {
   "cell_type": "code",
   "execution_count": 10,
   "metadata": {},
   "outputs": [
    {
     "name": "stdout",
     "output_type": "stream",
     "text": [
      "<class 'pandas.core.frame.DataFrame'>\n",
      "RangeIndex: 1457 entries, 0 to 1456\n",
      "Data columns (total 3 columns):\n",
      " #   Column       Non-Null Count  Dtype \n",
      "---  ------       --------------  ----- \n",
      " 0   title        1457 non-null   object\n",
      " 1   description  1380 non-null   object\n",
      " 2   url          1457 non-null   object\n",
      "dtypes: object(3)\n",
      "memory usage: 34.3+ KB\n"
     ]
    }
   ],
   "source": [
    "data.info()"
   ]
  },
  {
   "cell_type": "code",
   "execution_count": null,
   "metadata": {},
   "outputs": [],
   "source": []
  }
 ],
 "metadata": {
  "kernelspec": {
   "display_name": "yfl",
   "language": "python",
   "name": "python3"
  },
  "language_info": {
   "codemirror_mode": {
    "name": "ipython",
    "version": 3
   },
   "file_extension": ".py",
   "mimetype": "text/x-python",
   "name": "python",
   "nbconvert_exporter": "python",
   "pygments_lexer": "ipython3",
   "version": "3.12.4"
  }
 },
 "nbformat": 4,
 "nbformat_minor": 2
}
