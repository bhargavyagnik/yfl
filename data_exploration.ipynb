{
 "cells": [
  {
   "cell_type": "code",
   "execution_count": 4,
   "metadata": {},
   "outputs": [],
   "source": [
    "import pandas as pd"
   ]
  },
  {
   "cell_type": "code",
   "execution_count": 5,
   "metadata": {},
   "outputs": [
    {
     "data": {
      "text/html": [
       "<div>\n",
       "<style scoped>\n",
       "    .dataframe tbody tr th:only-of-type {\n",
       "        vertical-align: middle;\n",
       "    }\n",
       "\n",
       "    .dataframe tbody tr th {\n",
       "        vertical-align: top;\n",
       "    }\n",
       "\n",
       "    .dataframe thead th {\n",
       "        text-align: right;\n",
       "    }\n",
       "</style>\n",
       "<table border=\"1\" class=\"dataframe\">\n",
       "  <thead>\n",
       "    <tr style=\"text-align: right;\">\n",
       "      <th></th>\n",
       "      <th>title</th>\n",
       "      <th>description</th>\n",
       "      <th>url</th>\n",
       "    </tr>\n",
       "  </thead>\n",
       "  <tbody>\n",
       "    <tr>\n",
       "      <th>0</th>\n",
       "      <td>Rasam Vada Recipe | Tomato Rasam | Perfect Vad...</td>\n",
       "      <td>Rasam Powder: https://youtu.be/YIWBthqArCM?t=5...</td>\n",
       "      <td>https://www.youtube.com/watch?v=7LpEu6rTyHs</td>\n",
       "    </tr>\n",
       "    <tr>\n",
       "      <th>1</th>\n",
       "      <td>Peri Peri Chicken with Butter Rice | Spicy Hom...</td>\n",
       "      <td>Full written recipe of Chicken in Peri Peri Sa...</td>\n",
       "      <td>https://www.youtube.com/watch?v=d9_YSS1lB1w</td>\n",
       "    </tr>\n",
       "    <tr>\n",
       "      <th>2</th>\n",
       "      <td>Homestyle Turai Ki Sabzi | Turai Ka Bharta | त...</td>\n",
       "      <td>Full written recipe of Turai Ki Sabzi\\nPrep ti...</td>\n",
       "      <td>https://www.youtube.com/watch?v=nX5vogjw_yk</td>\n",
       "    </tr>\n",
       "    <tr>\n",
       "      <th>3</th>\n",
       "      <td>Chicken Pepper Fry Recipe | Pepper Chicken Mas...</td>\n",
       "      <td>Full written recipe for Chicken Pepper Fry\\nPr...</td>\n",
       "      <td>https://www.youtube.com/watch?v=5R6nNJC-FVE</td>\n",
       "    </tr>\n",
       "    <tr>\n",
       "      <th>4</th>\n",
       "      <td>Achari Paneer Recipe | Dhaba Style Paneer Grav...</td>\n",
       "      <td>Full written recipe of Achari Paneer \\nPrep ti...</td>\n",
       "      <td>https://www.youtube.com/watch?v=P514UYjzZ-E</td>\n",
       "    </tr>\n",
       "  </tbody>\n",
       "</table>\n",
       "</div>"
      ],
      "text/plain": [
       "                                               title  \\\n",
       "0  Rasam Vada Recipe | Tomato Rasam | Perfect Vad...   \n",
       "1  Peri Peri Chicken with Butter Rice | Spicy Hom...   \n",
       "2  Homestyle Turai Ki Sabzi | Turai Ka Bharta | त...   \n",
       "3  Chicken Pepper Fry Recipe | Pepper Chicken Mas...   \n",
       "4  Achari Paneer Recipe | Dhaba Style Paneer Grav...   \n",
       "\n",
       "                                         description  \\\n",
       "0  Rasam Powder: https://youtu.be/YIWBthqArCM?t=5...   \n",
       "1  Full written recipe of Chicken in Peri Peri Sa...   \n",
       "2  Full written recipe of Turai Ki Sabzi\\nPrep ti...   \n",
       "3  Full written recipe for Chicken Pepper Fry\\nPr...   \n",
       "4  Full written recipe of Achari Paneer \\nPrep ti...   \n",
       "\n",
       "                                           url  \n",
       "0  https://www.youtube.com/watch?v=7LpEu6rTyHs  \n",
       "1  https://www.youtube.com/watch?v=d9_YSS1lB1w  \n",
       "2  https://www.youtube.com/watch?v=nX5vogjw_yk  \n",
       "3  https://www.youtube.com/watch?v=5R6nNJC-FVE  \n",
       "4  https://www.youtube.com/watch?v=P514UYjzZ-E  "
      ]
     },
     "execution_count": 5,
     "metadata": {},
     "output_type": "execute_result"
    }
   ],
   "source": [
    "data =  pd.read_csv(\"channel_data.csv\")\n",
    "data.head()"
   ]
  },
  {
   "cell_type": "code",
   "execution_count": 10,
   "metadata": {},
   "outputs": [
    {
     "name": "stdout",
     "output_type": "stream",
     "text": [
      "<class 'pandas.core.frame.DataFrame'>\n",
      "RangeIndex: 1457 entries, 0 to 1456\n",
      "Data columns (total 3 columns):\n",
      " #   Column       Non-Null Count  Dtype \n",
      "---  ------       --------------  ----- \n",
      " 0   title        1457 non-null   object\n",
      " 1   description  1380 non-null   object\n",
      " 2   url          1457 non-null   object\n",
      "dtypes: object(3)\n",
      "memory usage: 34.3+ KB\n"
     ]
    }
   ],
   "source": [
    "data.info()"
   ]
  },
  {
   "cell_type": "code",
   "execution_count": 8,
   "metadata": {},
   "outputs": [],
   "source": [
    "#Creating own Parser, Using LLAMA3 \n",
    "import ollama"
   ]
  },
  {
   "cell_type": "code",
   "execution_count": 6,
   "metadata": {},
   "outputs": [
    {
     "name": "stdout",
     "output_type": "stream",
     "text": [
      "The sky appears blue because of a phenomenon called Rayleigh scattering, named after the British physicist Lord Rayleigh. Here's what happens:\n",
      "\n",
      "When sunlight enters Earth's atmosphere, it encounters tiny molecules of gases such as nitrogen (N2) and oxygen (O2). These molecules are much smaller than the wavelength of light itself.\n",
      "\n",
      "The shorter wavelengths of light, like violet and blue, are scattered in all directions by these small molecules more efficiently than the longer wavelengths, like red and orange. This scattering effect is known as Rayleigh scattering.\n",
      "\n",
      "As a result, the blue and violet light that is scattered in all directions reaches our eyes from all parts of the sky, making it appear blue to us. The color we see is actually an average of the colors that are being scattered and reaching our eyes.\n",
      "\n",
      "Here's why other colors aren't as prominent:\n",
      "\n",
      "* Red light has a longer wavelength than blue light, so it continues to travel in a straight line without much scattering. That's why the sky doesn't appear red.\n",
      "* Green light is scattered less than blue light but more than red light, which is why we don't see as much green.\n",
      "* Longer wavelengths like orange and yellow are even less affected by Rayleigh scattering and tend to dominate during sunrise and sunset when the sun's rays have to travel through more of the Earth's atmosphere.\n",
      "\n",
      "So, in summary, the sky appears blue because of the scattering of shorter wavelengths of light (like blue and violet) by tiny molecules in the Earth's atmosphere.\n"
     ]
    }
   ],
   "source": [
    "response = ollama.chat(model='llama3', messages=[\n",
    "  {\n",
    "    'role': 'user',\n",
    "    'content': 'Why is the sky blue?',\n",
    "  },\n",
    "])\n",
    "print(response['message']['content'])"
   ]
  },
  {
   "cell_type": "code",
   "execution_count": 12,
   "metadata": {},
   "outputs": [
    {
     "ename": "OutputParserException",
     "evalue": "Failed to parse RecipeInfo from completion {\"recipe_name\": \"Rasam Vada\", \"ingredients\": [{\"TUR DAL | \\u0924\\u0942\\u0930 \\u0926\\u093e\\u0932\": {\"quantity\": \"\\u00bc CUP (SOAKED)\"}, \"WATER | \\u092a\\u093e\\u0928\\u0940\": {\"quantity\": \"AS REQUIRED\"}, \"TURMERIC POWDER | \\u0939\\u0932\\u094d\\u0926\\u0940 \\u092a\\u093e\\u0909\\u0921\\u0930\": {\"quantity\": \"AS REQUIRED\"}, \"OIL | \\u0924\\u0947\\u0932\": {\"quantity\": \"2 TBSP\"}, \"MUSTARD SEED | \\u0930\\u093e\\u0908\": {\"quantity\": \"\\u00bd TSP\"}, \"CURRY LEAVES | \\u0915\\u0921\\u093c\\u0940 \\u092a\\u0924\\u094d\\u0924\\u093e\": {\"quantity\": \"12-15 NOS.\"}, \"GREEN CHILLI | \\u0939\\u0930\\u0940 \\u092e\\u093f\\u0930\\u094d\\u091a\": {\"quantity\": \"2 NOS. (SLIT)\"}, \"RED CHILLI | \\u0932\\u093e\\u0932 \\u092e\\u093f\\u0930\\u094d\\u091a\": {\"quantity\": \"4 NOS.\"}, \"GARLIC | \\u0932\\u0939\\u0938\\u0941\\u0928\": {\"quantity\": \"6 CLOVES (ROUGHLY CHOPPED)\"}, \"ASAFOETIDA | \\u0939\\u0940\\u0902\\u0917\": {\"quantity\": \"\\u00bc TSP\"}, \"TOMATO | \\u091f\\u092e\\u093e\\u091f\\u0930\": {\"quantity\": \"2 NOS. (CHOPPED)\"}, \"CORIANDER STEMS | \\u0927\\u0928\\u093f\\u090f \\u0915\\u0947 \\u0921\\u0902\\u0920\\u0932\": {\"quantity\": \"A HANDFUL (CHOPPED)\"}, \"SALT | \\u0928\\u092e\\u0915\": {\"quantity\": \"TO TASTE\"}, \"RASAM POWDER | \\u0930\\u0938\\u093e\\u092e \\u092a\\u093e\\u0909\\u0921\\u0930\": {\"quantity\": \"AS REQUIRED\"}}, {\"URAD DAL | \\u0909\\u0930\\u0926 \\u0926\\u093e\\u0932\": {\"quantity\": \"A BUNCH (SOAKED)\"}, \"SALT | \\u0928\\u092e\\u0915\": {\"quantity\": \"TO TASTE\"}, \"GINGER | \\u0905\\u0926\\u0930\\u0915\": {\"quantity\": \"A PIECE (CHOPPED)\"}, \"GREEN CHILLI | \\u0939\\u0930\\u0940 \\u092e\\u093f\\u0930\\u094d\\u091a\": {\"quantity\": \"1-2 NOS. (CHOPPED)\"}, \"ASAFOETIDA | \\u0939\\u0940\\u0902\\u0917\": {\"quantity\": \"A PINCH\"}}], \"instructions\": [{\"step\": 1, \"text\": \"Wash the urad dal & soak it for 3-4 hours, once the dal is soaked, drain the excess water & add the soaked urad dal into a mixer grinder jar & grind the dal coarsely using minimal water (it should be ice cold), the texture of the dal should neither be completely smooth nor extremely coarse.\"}, {\"step\": 2, \"text\": \"Further transfer the dal into a bowl & whisk it for 3-4 minutes using your hand or a whisk until it gets light & fluffy.\"}, {\"step\": 3, \"text\": \"To check if the batter is ready, add a small portion of it in a bowl of water, if the batter floats, then you can continue with the addition of further ingredients.\"}, {\"step\": 4, \"text\": \"Further add salt, ginger, green chilli, asafoetida, curry leaves & mix it very gently.\"}]}. Got: 2 validation errors for RecipeInfo\npreparation_time\n  Field required [type=missing, input_value={'recipe_name': 'Rasam Va... mix it very gently.'}]}, input_type=dict]\n    For further information visit https://errors.pydantic.dev/2.8/v/missing\ncooking_time\n  Field required [type=missing, input_value={'recipe_name': 'Rasam Va... mix it very gently.'}]}, input_type=dict]\n    For further information visit https://errors.pydantic.dev/2.8/v/missing",
     "output_type": "error",
     "traceback": [
      "\u001b[0;31m---------------------------------------------------------------------------\u001b[0m",
      "\u001b[0;31mValidationError\u001b[0m                           Traceback (most recent call last)",
      "File \u001b[0;32m~/miniconda3/envs/yfl/lib/python3.12/site-packages/langchain_core/output_parsers/pydantic.py:33\u001b[0m, in \u001b[0;36mPydanticOutputParser._parse_obj\u001b[0;34m(self, obj)\u001b[0m\n\u001b[1;32m     32\u001b[0m \u001b[38;5;28;01mif\u001b[39;00m \u001b[38;5;28missubclass\u001b[39m(\u001b[38;5;28mself\u001b[39m\u001b[38;5;241m.\u001b[39mpydantic_object, pydantic\u001b[38;5;241m.\u001b[39mBaseModel):\n\u001b[0;32m---> 33\u001b[0m     \u001b[38;5;28;01mreturn\u001b[39;00m \u001b[38;5;28;43mself\u001b[39;49m\u001b[38;5;241;43m.\u001b[39;49m\u001b[43mpydantic_object\u001b[49m\u001b[38;5;241;43m.\u001b[39;49m\u001b[43mmodel_validate\u001b[49m\u001b[43m(\u001b[49m\u001b[43mobj\u001b[49m\u001b[43m)\u001b[49m\n\u001b[1;32m     34\u001b[0m \u001b[38;5;28;01melif\u001b[39;00m \u001b[38;5;28missubclass\u001b[39m(\u001b[38;5;28mself\u001b[39m\u001b[38;5;241m.\u001b[39mpydantic_object, pydantic\u001b[38;5;241m.\u001b[39mv1\u001b[38;5;241m.\u001b[39mBaseModel):\n",
      "File \u001b[0;32m~/miniconda3/envs/yfl/lib/python3.12/site-packages/pydantic/main.py:568\u001b[0m, in \u001b[0;36mBaseModel.model_validate\u001b[0;34m(cls, obj, strict, from_attributes, context)\u001b[0m\n\u001b[1;32m    567\u001b[0m __tracebackhide__ \u001b[38;5;241m=\u001b[39m \u001b[38;5;28;01mTrue\u001b[39;00m\n\u001b[0;32m--> 568\u001b[0m \u001b[38;5;28;01mreturn\u001b[39;00m \u001b[38;5;28;43mcls\u001b[39;49m\u001b[38;5;241;43m.\u001b[39;49m\u001b[43m__pydantic_validator__\u001b[49m\u001b[38;5;241;43m.\u001b[39;49m\u001b[43mvalidate_python\u001b[49m\u001b[43m(\u001b[49m\n\u001b[1;32m    569\u001b[0m \u001b[43m    \u001b[49m\u001b[43mobj\u001b[49m\u001b[43m,\u001b[49m\u001b[43m \u001b[49m\u001b[43mstrict\u001b[49m\u001b[38;5;241;43m=\u001b[39;49m\u001b[43mstrict\u001b[49m\u001b[43m,\u001b[49m\u001b[43m \u001b[49m\u001b[43mfrom_attributes\u001b[49m\u001b[38;5;241;43m=\u001b[39;49m\u001b[43mfrom_attributes\u001b[49m\u001b[43m,\u001b[49m\u001b[43m \u001b[49m\u001b[43mcontext\u001b[49m\u001b[38;5;241;43m=\u001b[39;49m\u001b[43mcontext\u001b[49m\n\u001b[1;32m    570\u001b[0m \u001b[43m\u001b[49m\u001b[43m)\u001b[49m\n",
      "\u001b[0;31mValidationError\u001b[0m: 2 validation errors for RecipeInfo\npreparation_time\n  Field required [type=missing, input_value={'recipe_name': 'Rasam Va... mix it very gently.'}]}, input_type=dict]\n    For further information visit https://errors.pydantic.dev/2.8/v/missing\ncooking_time\n  Field required [type=missing, input_value={'recipe_name': 'Rasam Va... mix it very gently.'}]}, input_type=dict]\n    For further information visit https://errors.pydantic.dev/2.8/v/missing",
      "\nDuring handling of the above exception, another exception occurred:\n",
      "\u001b[0;31mOutputParserException\u001b[0m                     Traceback (most recent call last)",
      "Cell \u001b[0;32mIn[12], line 33\u001b[0m\n\u001b[1;32m     31\u001b[0m df \u001b[38;5;241m=\u001b[39m pd\u001b[38;5;241m.\u001b[39mread_csv(\u001b[38;5;124m'\u001b[39m\u001b[38;5;124mchannel_data.csv\u001b[39m\u001b[38;5;124m'\u001b[39m)\n\u001b[1;32m     32\u001b[0m df \u001b[38;5;241m=\u001b[39m df[:\u001b[38;5;241m2\u001b[39m]\n\u001b[0;32m---> 33\u001b[0m structured_data \u001b[38;5;241m=\u001b[39m \u001b[43mdf\u001b[49m\u001b[43m[\u001b[49m\u001b[38;5;124;43m'\u001b[39;49m\u001b[38;5;124;43mdescription\u001b[39;49m\u001b[38;5;124;43m'\u001b[39;49m\u001b[43m]\u001b[49m\u001b[38;5;241;43m.\u001b[39;49m\u001b[43mapply\u001b[49m\u001b[43m(\u001b[49m\u001b[43mprocess_recipe\u001b[49m\u001b[43m)\u001b[49m\n\u001b[1;32m     34\u001b[0m result_df \u001b[38;5;241m=\u001b[39m pd\u001b[38;5;241m.\u001b[39mDataFrame([\u001b[38;5;28mvars\u001b[39m(item) \u001b[38;5;28;01mfor\u001b[39;00m item \u001b[38;5;129;01min\u001b[39;00m structured_data])\n\u001b[1;32m     35\u001b[0m \u001b[38;5;28mprint\u001b[39m(result_df)\n",
      "File \u001b[0;32m~/miniconda3/envs/yfl/lib/python3.12/site-packages/pandas/core/series.py:4924\u001b[0m, in \u001b[0;36mSeries.apply\u001b[0;34m(self, func, convert_dtype, args, by_row, **kwargs)\u001b[0m\n\u001b[1;32m   4789\u001b[0m \u001b[38;5;28;01mdef\u001b[39;00m \u001b[38;5;21mapply\u001b[39m(\n\u001b[1;32m   4790\u001b[0m     \u001b[38;5;28mself\u001b[39m,\n\u001b[1;32m   4791\u001b[0m     func: AggFuncType,\n\u001b[0;32m   (...)\u001b[0m\n\u001b[1;32m   4796\u001b[0m     \u001b[38;5;241m*\u001b[39m\u001b[38;5;241m*\u001b[39mkwargs,\n\u001b[1;32m   4797\u001b[0m ) \u001b[38;5;241m-\u001b[39m\u001b[38;5;241m>\u001b[39m DataFrame \u001b[38;5;241m|\u001b[39m Series:\n\u001b[1;32m   4798\u001b[0m \u001b[38;5;250m    \u001b[39m\u001b[38;5;124;03m\"\"\"\u001b[39;00m\n\u001b[1;32m   4799\u001b[0m \u001b[38;5;124;03m    Invoke function on values of Series.\u001b[39;00m\n\u001b[1;32m   4800\u001b[0m \n\u001b[0;32m   (...)\u001b[0m\n\u001b[1;32m   4915\u001b[0m \u001b[38;5;124;03m    dtype: float64\u001b[39;00m\n\u001b[1;32m   4916\u001b[0m \u001b[38;5;124;03m    \"\"\"\u001b[39;00m\n\u001b[1;32m   4917\u001b[0m     \u001b[38;5;28;01mreturn\u001b[39;00m \u001b[43mSeriesApply\u001b[49m\u001b[43m(\u001b[49m\n\u001b[1;32m   4918\u001b[0m \u001b[43m        \u001b[49m\u001b[38;5;28;43mself\u001b[39;49m\u001b[43m,\u001b[49m\n\u001b[1;32m   4919\u001b[0m \u001b[43m        \u001b[49m\u001b[43mfunc\u001b[49m\u001b[43m,\u001b[49m\n\u001b[1;32m   4920\u001b[0m \u001b[43m        \u001b[49m\u001b[43mconvert_dtype\u001b[49m\u001b[38;5;241;43m=\u001b[39;49m\u001b[43mconvert_dtype\u001b[49m\u001b[43m,\u001b[49m\n\u001b[1;32m   4921\u001b[0m \u001b[43m        \u001b[49m\u001b[43mby_row\u001b[49m\u001b[38;5;241;43m=\u001b[39;49m\u001b[43mby_row\u001b[49m\u001b[43m,\u001b[49m\n\u001b[1;32m   4922\u001b[0m \u001b[43m        \u001b[49m\u001b[43margs\u001b[49m\u001b[38;5;241;43m=\u001b[39;49m\u001b[43margs\u001b[49m\u001b[43m,\u001b[49m\n\u001b[1;32m   4923\u001b[0m \u001b[43m        \u001b[49m\u001b[43mkwargs\u001b[49m\u001b[38;5;241;43m=\u001b[39;49m\u001b[43mkwargs\u001b[49m\u001b[43m,\u001b[49m\n\u001b[0;32m-> 4924\u001b[0m \u001b[43m    \u001b[49m\u001b[43m)\u001b[49m\u001b[38;5;241;43m.\u001b[39;49m\u001b[43mapply\u001b[49m\u001b[43m(\u001b[49m\u001b[43m)\u001b[49m\n",
      "File \u001b[0;32m~/miniconda3/envs/yfl/lib/python3.12/site-packages/pandas/core/apply.py:1427\u001b[0m, in \u001b[0;36mSeriesApply.apply\u001b[0;34m(self)\u001b[0m\n\u001b[1;32m   1424\u001b[0m     \u001b[38;5;28;01mreturn\u001b[39;00m \u001b[38;5;28mself\u001b[39m\u001b[38;5;241m.\u001b[39mapply_compat()\n\u001b[1;32m   1426\u001b[0m \u001b[38;5;66;03m# self.func is Callable\u001b[39;00m\n\u001b[0;32m-> 1427\u001b[0m \u001b[38;5;28;01mreturn\u001b[39;00m \u001b[38;5;28;43mself\u001b[39;49m\u001b[38;5;241;43m.\u001b[39;49m\u001b[43mapply_standard\u001b[49m\u001b[43m(\u001b[49m\u001b[43m)\u001b[49m\n",
      "File \u001b[0;32m~/miniconda3/envs/yfl/lib/python3.12/site-packages/pandas/core/apply.py:1507\u001b[0m, in \u001b[0;36mSeriesApply.apply_standard\u001b[0;34m(self)\u001b[0m\n\u001b[1;32m   1501\u001b[0m \u001b[38;5;66;03m# row-wise access\u001b[39;00m\n\u001b[1;32m   1502\u001b[0m \u001b[38;5;66;03m# apply doesn't have a `na_action` keyword and for backward compat reasons\u001b[39;00m\n\u001b[1;32m   1503\u001b[0m \u001b[38;5;66;03m# we need to give `na_action=\"ignore\"` for categorical data.\u001b[39;00m\n\u001b[1;32m   1504\u001b[0m \u001b[38;5;66;03m# TODO: remove the `na_action=\"ignore\"` when that default has been changed in\u001b[39;00m\n\u001b[1;32m   1505\u001b[0m \u001b[38;5;66;03m#  Categorical (GH51645).\u001b[39;00m\n\u001b[1;32m   1506\u001b[0m action \u001b[38;5;241m=\u001b[39m \u001b[38;5;124m\"\u001b[39m\u001b[38;5;124mignore\u001b[39m\u001b[38;5;124m\"\u001b[39m \u001b[38;5;28;01mif\u001b[39;00m \u001b[38;5;28misinstance\u001b[39m(obj\u001b[38;5;241m.\u001b[39mdtype, CategoricalDtype) \u001b[38;5;28;01melse\u001b[39;00m \u001b[38;5;28;01mNone\u001b[39;00m\n\u001b[0;32m-> 1507\u001b[0m mapped \u001b[38;5;241m=\u001b[39m \u001b[43mobj\u001b[49m\u001b[38;5;241;43m.\u001b[39;49m\u001b[43m_map_values\u001b[49m\u001b[43m(\u001b[49m\n\u001b[1;32m   1508\u001b[0m \u001b[43m    \u001b[49m\u001b[43mmapper\u001b[49m\u001b[38;5;241;43m=\u001b[39;49m\u001b[43mcurried\u001b[49m\u001b[43m,\u001b[49m\u001b[43m \u001b[49m\u001b[43mna_action\u001b[49m\u001b[38;5;241;43m=\u001b[39;49m\u001b[43maction\u001b[49m\u001b[43m,\u001b[49m\u001b[43m \u001b[49m\u001b[43mconvert\u001b[49m\u001b[38;5;241;43m=\u001b[39;49m\u001b[38;5;28;43mself\u001b[39;49m\u001b[38;5;241;43m.\u001b[39;49m\u001b[43mconvert_dtype\u001b[49m\n\u001b[1;32m   1509\u001b[0m \u001b[43m\u001b[49m\u001b[43m)\u001b[49m\n\u001b[1;32m   1511\u001b[0m \u001b[38;5;28;01mif\u001b[39;00m \u001b[38;5;28mlen\u001b[39m(mapped) \u001b[38;5;129;01mand\u001b[39;00m \u001b[38;5;28misinstance\u001b[39m(mapped[\u001b[38;5;241m0\u001b[39m], ABCSeries):\n\u001b[1;32m   1512\u001b[0m     \u001b[38;5;66;03m# GH#43986 Need to do list(mapped) in order to get treated as nested\u001b[39;00m\n\u001b[1;32m   1513\u001b[0m     \u001b[38;5;66;03m#  See also GH#25959 regarding EA support\u001b[39;00m\n\u001b[1;32m   1514\u001b[0m     \u001b[38;5;28;01mreturn\u001b[39;00m obj\u001b[38;5;241m.\u001b[39m_constructor_expanddim(\u001b[38;5;28mlist\u001b[39m(mapped), index\u001b[38;5;241m=\u001b[39mobj\u001b[38;5;241m.\u001b[39mindex)\n",
      "File \u001b[0;32m~/miniconda3/envs/yfl/lib/python3.12/site-packages/pandas/core/base.py:921\u001b[0m, in \u001b[0;36mIndexOpsMixin._map_values\u001b[0;34m(self, mapper, na_action, convert)\u001b[0m\n\u001b[1;32m    918\u001b[0m \u001b[38;5;28;01mif\u001b[39;00m \u001b[38;5;28misinstance\u001b[39m(arr, ExtensionArray):\n\u001b[1;32m    919\u001b[0m     \u001b[38;5;28;01mreturn\u001b[39;00m arr\u001b[38;5;241m.\u001b[39mmap(mapper, na_action\u001b[38;5;241m=\u001b[39mna_action)\n\u001b[0;32m--> 921\u001b[0m \u001b[38;5;28;01mreturn\u001b[39;00m \u001b[43malgorithms\u001b[49m\u001b[38;5;241;43m.\u001b[39;49m\u001b[43mmap_array\u001b[49m\u001b[43m(\u001b[49m\u001b[43marr\u001b[49m\u001b[43m,\u001b[49m\u001b[43m \u001b[49m\u001b[43mmapper\u001b[49m\u001b[43m,\u001b[49m\u001b[43m \u001b[49m\u001b[43mna_action\u001b[49m\u001b[38;5;241;43m=\u001b[39;49m\u001b[43mna_action\u001b[49m\u001b[43m,\u001b[49m\u001b[43m \u001b[49m\u001b[43mconvert\u001b[49m\u001b[38;5;241;43m=\u001b[39;49m\u001b[43mconvert\u001b[49m\u001b[43m)\u001b[49m\n",
      "File \u001b[0;32m~/miniconda3/envs/yfl/lib/python3.12/site-packages/pandas/core/algorithms.py:1743\u001b[0m, in \u001b[0;36mmap_array\u001b[0;34m(arr, mapper, na_action, convert)\u001b[0m\n\u001b[1;32m   1741\u001b[0m values \u001b[38;5;241m=\u001b[39m arr\u001b[38;5;241m.\u001b[39mastype(\u001b[38;5;28mobject\u001b[39m, copy\u001b[38;5;241m=\u001b[39m\u001b[38;5;28;01mFalse\u001b[39;00m)\n\u001b[1;32m   1742\u001b[0m \u001b[38;5;28;01mif\u001b[39;00m na_action \u001b[38;5;129;01mis\u001b[39;00m \u001b[38;5;28;01mNone\u001b[39;00m:\n\u001b[0;32m-> 1743\u001b[0m     \u001b[38;5;28;01mreturn\u001b[39;00m \u001b[43mlib\u001b[49m\u001b[38;5;241;43m.\u001b[39;49m\u001b[43mmap_infer\u001b[49m\u001b[43m(\u001b[49m\u001b[43mvalues\u001b[49m\u001b[43m,\u001b[49m\u001b[43m \u001b[49m\u001b[43mmapper\u001b[49m\u001b[43m,\u001b[49m\u001b[43m \u001b[49m\u001b[43mconvert\u001b[49m\u001b[38;5;241;43m=\u001b[39;49m\u001b[43mconvert\u001b[49m\u001b[43m)\u001b[49m\n\u001b[1;32m   1744\u001b[0m \u001b[38;5;28;01melse\u001b[39;00m:\n\u001b[1;32m   1745\u001b[0m     \u001b[38;5;28;01mreturn\u001b[39;00m lib\u001b[38;5;241m.\u001b[39mmap_infer_mask(\n\u001b[1;32m   1746\u001b[0m         values, mapper, mask\u001b[38;5;241m=\u001b[39misna(values)\u001b[38;5;241m.\u001b[39mview(np\u001b[38;5;241m.\u001b[39muint8), convert\u001b[38;5;241m=\u001b[39mconvert\n\u001b[1;32m   1747\u001b[0m     )\n",
      "File \u001b[0;32mlib.pyx:2972\u001b[0m, in \u001b[0;36mpandas._libs.lib.map_infer\u001b[0;34m()\u001b[0m\n",
      "Cell \u001b[0;32mIn[12], line 28\u001b[0m, in \u001b[0;36mprocess_recipe\u001b[0;34m(text)\u001b[0m\n\u001b[1;32m     26\u001b[0m prompt \u001b[38;5;241m=\u001b[39m prompt_template\u001b[38;5;241m.\u001b[39mformat(text\u001b[38;5;241m=\u001b[39mtext)\n\u001b[1;32m     27\u001b[0m response \u001b[38;5;241m=\u001b[39m llm(prompt)\n\u001b[0;32m---> 28\u001b[0m parsed_response \u001b[38;5;241m=\u001b[39m \u001b[43mparser\u001b[49m\u001b[38;5;241;43m.\u001b[39;49m\u001b[43mparse\u001b[49m\u001b[43m(\u001b[49m\u001b[43mresponse\u001b[49m\u001b[43m)\u001b[49m\n\u001b[1;32m     29\u001b[0m \u001b[38;5;28;01mreturn\u001b[39;00m parsed_response\n",
      "File \u001b[0;32m~/miniconda3/envs/yfl/lib/python3.12/site-packages/langchain_core/output_parsers/pydantic.py:84\u001b[0m, in \u001b[0;36mPydanticOutputParser.parse\u001b[0;34m(self, text)\u001b[0m\n\u001b[1;32m     75\u001b[0m \u001b[38;5;28;01mdef\u001b[39;00m \u001b[38;5;21mparse\u001b[39m(\u001b[38;5;28mself\u001b[39m, text: \u001b[38;5;28mstr\u001b[39m) \u001b[38;5;241m-\u001b[39m\u001b[38;5;241m>\u001b[39m TBaseModel:\n\u001b[1;32m     76\u001b[0m \u001b[38;5;250m    \u001b[39m\u001b[38;5;124;03m\"\"\"Parse the output of an LLM call to a pydantic object.\u001b[39;00m\n\u001b[1;32m     77\u001b[0m \n\u001b[1;32m     78\u001b[0m \u001b[38;5;124;03m    Args:\u001b[39;00m\n\u001b[0;32m   (...)\u001b[0m\n\u001b[1;32m     82\u001b[0m \u001b[38;5;124;03m        The parsed pydantic object.\u001b[39;00m\n\u001b[1;32m     83\u001b[0m \u001b[38;5;124;03m    \"\"\"\u001b[39;00m\n\u001b[0;32m---> 84\u001b[0m     \u001b[38;5;28;01mreturn\u001b[39;00m \u001b[38;5;28;43msuper\u001b[39;49m\u001b[43m(\u001b[49m\u001b[43m)\u001b[49m\u001b[38;5;241;43m.\u001b[39;49m\u001b[43mparse\u001b[49m\u001b[43m(\u001b[49m\u001b[43mtext\u001b[49m\u001b[43m)\u001b[49m\n",
      "File \u001b[0;32m~/miniconda3/envs/yfl/lib/python3.12/site-packages/langchain_core/output_parsers/json.py:98\u001b[0m, in \u001b[0;36mJsonOutputParser.parse\u001b[0;34m(self, text)\u001b[0m\n\u001b[1;32m     89\u001b[0m \u001b[38;5;28;01mdef\u001b[39;00m \u001b[38;5;21mparse\u001b[39m(\u001b[38;5;28mself\u001b[39m, text: \u001b[38;5;28mstr\u001b[39m) \u001b[38;5;241m-\u001b[39m\u001b[38;5;241m>\u001b[39m Any:\n\u001b[1;32m     90\u001b[0m \u001b[38;5;250m    \u001b[39m\u001b[38;5;124;03m\"\"\"Parse the output of an LLM call to a JSON object.\u001b[39;00m\n\u001b[1;32m     91\u001b[0m \n\u001b[1;32m     92\u001b[0m \u001b[38;5;124;03m    Args:\u001b[39;00m\n\u001b[0;32m   (...)\u001b[0m\n\u001b[1;32m     96\u001b[0m \u001b[38;5;124;03m        The parsed JSON object.\u001b[39;00m\n\u001b[1;32m     97\u001b[0m \u001b[38;5;124;03m    \"\"\"\u001b[39;00m\n\u001b[0;32m---> 98\u001b[0m     \u001b[38;5;28;01mreturn\u001b[39;00m \u001b[38;5;28;43mself\u001b[39;49m\u001b[38;5;241;43m.\u001b[39;49m\u001b[43mparse_result\u001b[49m\u001b[43m(\u001b[49m\u001b[43m[\u001b[49m\u001b[43mGeneration\u001b[49m\u001b[43m(\u001b[49m\u001b[43mtext\u001b[49m\u001b[38;5;241;43m=\u001b[39;49m\u001b[43mtext\u001b[49m\u001b[43m)\u001b[49m\u001b[43m]\u001b[49m\u001b[43m)\u001b[49m\n",
      "File \u001b[0;32m~/miniconda3/envs/yfl/lib/python3.12/site-packages/langchain_core/output_parsers/pydantic.py:73\u001b[0m, in \u001b[0;36mPydanticOutputParser.parse_result\u001b[0;34m(self, result, partial)\u001b[0m\n\u001b[1;32m     60\u001b[0m \u001b[38;5;250m\u001b[39m\u001b[38;5;124;03m\"\"\"Parse the result of an LLM call to a pydantic object.\u001b[39;00m\n\u001b[1;32m     61\u001b[0m \n\u001b[1;32m     62\u001b[0m \u001b[38;5;124;03mArgs:\u001b[39;00m\n\u001b[0;32m   (...)\u001b[0m\n\u001b[1;32m     70\u001b[0m \u001b[38;5;124;03m    The parsed pydantic object.\u001b[39;00m\n\u001b[1;32m     71\u001b[0m \u001b[38;5;124;03m\"\"\"\u001b[39;00m\n\u001b[1;32m     72\u001b[0m json_object \u001b[38;5;241m=\u001b[39m \u001b[38;5;28msuper\u001b[39m()\u001b[38;5;241m.\u001b[39mparse_result(result)\n\u001b[0;32m---> 73\u001b[0m \u001b[38;5;28;01mreturn\u001b[39;00m \u001b[38;5;28;43mself\u001b[39;49m\u001b[38;5;241;43m.\u001b[39;49m\u001b[43m_parse_obj\u001b[49m\u001b[43m(\u001b[49m\u001b[43mjson_object\u001b[49m\u001b[43m)\u001b[49m\n",
      "File \u001b[0;32m~/miniconda3/envs/yfl/lib/python3.12/site-packages/langchain_core/output_parsers/pydantic.py:42\u001b[0m, in \u001b[0;36mPydanticOutputParser._parse_obj\u001b[0;34m(self, obj)\u001b[0m\n\u001b[1;32m     37\u001b[0m             \u001b[38;5;28;01mraise\u001b[39;00m OutputParserException(\n\u001b[1;32m     38\u001b[0m                 \u001b[38;5;124mf\u001b[39m\u001b[38;5;124m\"\u001b[39m\u001b[38;5;124mUnsupported model version for PydanticOutputParser: \u001b[39m\u001b[38;5;130;01m\\\u001b[39;00m\n\u001b[1;32m     39\u001b[0m \u001b[38;5;124m                    \u001b[39m\u001b[38;5;132;01m{\u001b[39;00m\u001b[38;5;28mself\u001b[39m\u001b[38;5;241m.\u001b[39mpydantic_object\u001b[38;5;241m.\u001b[39m\u001b[38;5;18m__class__\u001b[39m\u001b[38;5;132;01m}\u001b[39;00m\u001b[38;5;124m\"\u001b[39m\n\u001b[1;32m     40\u001b[0m             )\n\u001b[1;32m     41\u001b[0m     \u001b[38;5;28;01mexcept\u001b[39;00m (pydantic\u001b[38;5;241m.\u001b[39mValidationError, pydantic\u001b[38;5;241m.\u001b[39mv1\u001b[38;5;241m.\u001b[39mValidationError) \u001b[38;5;28;01mas\u001b[39;00m e:\n\u001b[0;32m---> 42\u001b[0m         \u001b[38;5;28;01mraise\u001b[39;00m \u001b[38;5;28mself\u001b[39m\u001b[38;5;241m.\u001b[39m_parser_exception(e, obj)\n\u001b[1;32m     43\u001b[0m \u001b[38;5;28;01melse\u001b[39;00m:  \u001b[38;5;66;03m# pydantic v1\u001b[39;00m\n\u001b[1;32m     44\u001b[0m     \u001b[38;5;28;01mtry\u001b[39;00m:\n",
      "\u001b[0;31mOutputParserException\u001b[0m: Failed to parse RecipeInfo from completion {\"recipe_name\": \"Rasam Vada\", \"ingredients\": [{\"TUR DAL | \\u0924\\u0942\\u0930 \\u0926\\u093e\\u0932\": {\"quantity\": \"\\u00bc CUP (SOAKED)\"}, \"WATER | \\u092a\\u093e\\u0928\\u0940\": {\"quantity\": \"AS REQUIRED\"}, \"TURMERIC POWDER | \\u0939\\u0932\\u094d\\u0926\\u0940 \\u092a\\u093e\\u0909\\u0921\\u0930\": {\"quantity\": \"AS REQUIRED\"}, \"OIL | \\u0924\\u0947\\u0932\": {\"quantity\": \"2 TBSP\"}, \"MUSTARD SEED | \\u0930\\u093e\\u0908\": {\"quantity\": \"\\u00bd TSP\"}, \"CURRY LEAVES | \\u0915\\u0921\\u093c\\u0940 \\u092a\\u0924\\u094d\\u0924\\u093e\": {\"quantity\": \"12-15 NOS.\"}, \"GREEN CHILLI | \\u0939\\u0930\\u0940 \\u092e\\u093f\\u0930\\u094d\\u091a\": {\"quantity\": \"2 NOS. (SLIT)\"}, \"RED CHILLI | \\u0932\\u093e\\u0932 \\u092e\\u093f\\u0930\\u094d\\u091a\": {\"quantity\": \"4 NOS.\"}, \"GARLIC | \\u0932\\u0939\\u0938\\u0941\\u0928\": {\"quantity\": \"6 CLOVES (ROUGHLY CHOPPED)\"}, \"ASAFOETIDA | \\u0939\\u0940\\u0902\\u0917\": {\"quantity\": \"\\u00bc TSP\"}, \"TOMATO | \\u091f\\u092e\\u093e\\u091f\\u0930\": {\"quantity\": \"2 NOS. (CHOPPED)\"}, \"CORIANDER STEMS | \\u0927\\u0928\\u093f\\u090f \\u0915\\u0947 \\u0921\\u0902\\u0920\\u0932\": {\"quantity\": \"A HANDFUL (CHOPPED)\"}, \"SALT | \\u0928\\u092e\\u0915\": {\"quantity\": \"TO TASTE\"}, \"RASAM POWDER | \\u0930\\u0938\\u093e\\u092e \\u092a\\u093e\\u0909\\u0921\\u0930\": {\"quantity\": \"AS REQUIRED\"}}, {\"URAD DAL | \\u0909\\u0930\\u0926 \\u0926\\u093e\\u0932\": {\"quantity\": \"A BUNCH (SOAKED)\"}, \"SALT | \\u0928\\u092e\\u0915\": {\"quantity\": \"TO TASTE\"}, \"GINGER | \\u0905\\u0926\\u0930\\u0915\": {\"quantity\": \"A PIECE (CHOPPED)\"}, \"GREEN CHILLI | \\u0939\\u0930\\u0940 \\u092e\\u093f\\u0930\\u094d\\u091a\": {\"quantity\": \"1-2 NOS. (CHOPPED)\"}, \"ASAFOETIDA | \\u0939\\u0940\\u0902\\u0917\": {\"quantity\": \"A PINCH\"}}], \"instructions\": [{\"step\": 1, \"text\": \"Wash the urad dal & soak it for 3-4 hours, once the dal is soaked, drain the excess water & add the soaked urad dal into a mixer grinder jar & grind the dal coarsely using minimal water (it should be ice cold), the texture of the dal should neither be completely smooth nor extremely coarse.\"}, {\"step\": 2, \"text\": \"Further transfer the dal into a bowl & whisk it for 3-4 minutes using your hand or a whisk until it gets light & fluffy.\"}, {\"step\": 3, \"text\": \"To check if the batter is ready, add a small portion of it in a bowl of water, if the batter floats, then you can continue with the addition of further ingredients.\"}, {\"step\": 4, \"text\": \"Further add salt, ginger, green chilli, asafoetida, curry leaves & mix it very gently.\"}]}. Got: 2 validation errors for RecipeInfo\npreparation_time\n  Field required [type=missing, input_value={'recipe_name': 'Rasam Va... mix it very gently.'}]}, input_type=dict]\n    For further information visit https://errors.pydantic.dev/2.8/v/missing\ncooking_time\n  Field required [type=missing, input_value={'recipe_name': 'Rasam Va... mix it very gently.'}]}, input_type=dict]\n    For further information visit https://errors.pydantic.dev/2.8/v/missing"
     ]
    }
   ],
   "source": [
    "import pandas as pd\n",
    "from langchain_community.llms import Ollama\n",
    "from langchain.prompts import PromptTemplate\n",
    "from langchain.output_parsers import PydanticOutputParser\n",
    "from pydantic import BaseModel, Field\n",
    "from typing import List\n",
    "\n",
    "class RecipeInfo(BaseModel):\n",
    "    recipe_name: str = Field(description=\"Name of the recipe short and concise like Dal bati, Red Curry, Rajma Chawal, Rasam wada\")\n",
    "    ingredients: List[dict] = Field(description=\"List of ingredients with quantities like Chickpeas: 500g , tomatoes: 2 \")\n",
    "    preparation_time: int = Field(description=\"Preparation time in minutes like 15, 25, 40\")\n",
    "    cooking_time: int = Field(description=\"Cooking time in minutes like 10, 1hr should be 60, 45\")\n",
    "\n",
    "llm = Ollama(model=\"llama3\")\n",
    "parser = PydanticOutputParser(pydantic_object=RecipeInfo)\n",
    "prompt_template = PromptTemplate(\n",
    "    template=\n",
    "    \"\"\"Extract the following information like \\n{format_instructions}\\n\\nfrom the below text: {text} . Be concise and short, you are a data parser for python\n",
    "    so return the format as asked.\n",
    "    \"\"\",\n",
    "    input_variables=[\"text\"],\n",
    "    partial_variables={\"format_instructions\": parser.get_format_instructions()}\n",
    ")\n",
    "\n",
    "def process_recipe(text):\n",
    "    prompt = prompt_template.format(text=text)\n",
    "    response = llm(prompt)\n",
    "    parsed_response = parser.parse(response)\n",
    "    return parsed_response\n",
    "\n",
    "df = pd.read_csv('channel_data.csv')\n",
    "df = df[:2]\n",
    "structured_data = df['description'].apply(process_recipe)\n",
    "result_df = pd.DataFrame([vars(item) for item in structured_data])\n",
    "print(result_df)\n",
    "\n",
    "# result_df.to_csv('structured_recipes.csv', index=False)"
   ]
  },
  {
   "cell_type": "code",
   "execution_count": null,
   "metadata": {},
   "outputs": [],
   "source": []
  }
 ],
 "metadata": {
  "kernelspec": {
   "display_name": "yfl",
   "language": "python",
   "name": "python3"
  },
  "language_info": {
   "codemirror_mode": {
    "name": "ipython",
    "version": 3
   },
   "file_extension": ".py",
   "mimetype": "text/x-python",
   "name": "python",
   "nbconvert_exporter": "python",
   "pygments_lexer": "ipython3",
   "version": "3.12.4"
  }
 },
 "nbformat": 4,
 "nbformat_minor": 2
}
